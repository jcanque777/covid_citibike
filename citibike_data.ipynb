{
 "cells": [
  {
   "cell_type": "code",
   "execution_count": 1,
   "metadata": {},
   "outputs": [],
   "source": [
    "import configparser\n",
    "from datetime import datetime\n",
    "import os\n",
    "from pyspark.sql import SparkSession\n",
    "from pyspark.sql.functions import udf, col\n",
    "from pyspark.sql.functions import year, month, dayofmonth, hour, weekofyear, date_format\n",
    "from pyspark.sql.types import StructType, StructField, DoubleType, StringType, IntegerType, DateType, TimestampType, LongType"
   ]
  },
  {
   "cell_type": "code",
   "execution_count": 112,
   "metadata": {},
   "outputs": [],
   "source": [
    "from pyspark.sql import functions as F"
   ]
  },
  {
   "cell_type": "code",
   "execution_count": 27,
   "metadata": {},
   "outputs": [],
   "source": [
    "from pyspark.sql import Row\n",
    "from pyspark.sql.types import *"
   ]
  },
  {
   "cell_type": "code",
   "execution_count": 2,
   "metadata": {},
   "outputs": [],
   "source": [
    "def create_spark_session():\n",
    "    \"\"\"\n",
    "    creates sparks session \n",
    "    \"\"\"\n",
    "    spark = SparkSession \\\n",
    "        .builder \\\n",
    "        .config(\"spark.jars.packages\", \"org.apache.hadoop:hadoop-aws:2.7.0\") \\\n",
    "        .getOrCreate()\n",
    "    spark.conf.set(\"mapreduce.fileoutputcommitter.algorithm.version\", \"2\")\n",
    "    return spark"
   ]
  },
  {
   "cell_type": "code",
   "execution_count": 12,
   "metadata": {},
   "outputs": [],
   "source": [
    "spark = SparkSession \\\n",
    "        .builder \\\n",
    "        .config(\"spark.jars.packages\", \"org.apache.hadoop:hadoop-aws:2.7.0\") \\\n",
    "        .getOrCreate()"
   ]
  },
  {
   "cell_type": "code",
   "execution_count": 13,
   "metadata": {},
   "outputs": [],
   "source": [
    "spark.conf.set(\"mapreduce.fileoutputcommitter.algorithm.version\", \"2\")"
   ]
  },
  {
   "cell_type": "code",
   "execution_count": 38,
   "metadata": {},
   "outputs": [
    {
     "data": {
      "text/plain": [
       "'3.0.1'"
      ]
     },
     "execution_count": 38,
     "metadata": {},
     "output_type": "execute_result"
    }
   ],
   "source": [
    "spark.version"
   ]
  },
  {
   "cell_type": "markdown",
   "metadata": {},
   "source": [
    "# Load Data From Local"
   ]
  },
  {
   "cell_type": "code",
   "execution_count": 19,
   "metadata": {},
   "outputs": [],
   "source": [
    "df = spark.read.csv(\"cv19_data/202011-citibike-tripdata.csv\",header=True)"
   ]
  },
  {
   "cell_type": "code",
   "execution_count": 23,
   "metadata": {},
   "outputs": [
    {
     "data": {
      "text/html": [
       "<div>\n",
       "<style scoped>\n",
       "    .dataframe tbody tr th:only-of-type {\n",
       "        vertical-align: middle;\n",
       "    }\n",
       "\n",
       "    .dataframe tbody tr th {\n",
       "        vertical-align: top;\n",
       "    }\n",
       "\n",
       "    .dataframe thead th {\n",
       "        text-align: right;\n",
       "    }\n",
       "</style>\n",
       "<table border=\"1\" class=\"dataframe\">\n",
       "  <thead>\n",
       "    <tr style=\"text-align: right;\">\n",
       "      <th></th>\n",
       "      <th>tripduration</th>\n",
       "      <th>starttime</th>\n",
       "      <th>stoptime</th>\n",
       "      <th>start station id</th>\n",
       "      <th>start station name</th>\n",
       "      <th>start station latitude</th>\n",
       "      <th>start station longitude</th>\n",
       "      <th>end station id</th>\n",
       "      <th>end station name</th>\n",
       "      <th>end station latitude</th>\n",
       "      <th>end station longitude</th>\n",
       "      <th>bikeid</th>\n",
       "      <th>usertype</th>\n",
       "      <th>birth year</th>\n",
       "      <th>gender</th>\n",
       "    </tr>\n",
       "  </thead>\n",
       "  <tbody>\n",
       "    <tr>\n",
       "      <th>0</th>\n",
       "      <td>521</td>\n",
       "      <td>2020-11-01 00:00:07.0150</td>\n",
       "      <td>2020-11-01 00:08:48.3010</td>\n",
       "      <td>3467</td>\n",
       "      <td>W Broadway &amp; Spring St</td>\n",
       "      <td>40.72494672359416</td>\n",
       "      <td>-74.00165855884552</td>\n",
       "      <td>350</td>\n",
       "      <td>Clinton St &amp; Grand St</td>\n",
       "      <td>40.71559509</td>\n",
       "      <td>-73.9870295</td>\n",
       "      <td>40405</td>\n",
       "      <td>Subscriber</td>\n",
       "      <td>1989</td>\n",
       "      <td>1</td>\n",
       "    </tr>\n",
       "    <tr>\n",
       "      <th>1</th>\n",
       "      <td>492</td>\n",
       "      <td>2020-11-01 00:00:10.8080</td>\n",
       "      <td>2020-11-01 00:08:23.3170</td>\n",
       "      <td>3557</td>\n",
       "      <td>40 Ave &amp; 9 St</td>\n",
       "      <td>40.75742</td>\n",
       "      <td>-73.945133</td>\n",
       "      <td>3557</td>\n",
       "      <td>40 Ave &amp; 9 St</td>\n",
       "      <td>40.75742</td>\n",
       "      <td>-73.945133</td>\n",
       "      <td>46504</td>\n",
       "      <td>Subscriber</td>\n",
       "      <td>1970</td>\n",
       "      <td>2</td>\n",
       "    </tr>\n",
       "    <tr>\n",
       "      <th>2</th>\n",
       "      <td>1979</td>\n",
       "      <td>2020-11-01 00:00:14.7040</td>\n",
       "      <td>2020-11-01 00:33:14.1640</td>\n",
       "      <td>3085</td>\n",
       "      <td>Roebling St &amp; N 4 St</td>\n",
       "      <td>40.71469</td>\n",
       "      <td>-73.95739</td>\n",
       "      <td>3854</td>\n",
       "      <td>Morgan Ave &amp; Maspeth Ave</td>\n",
       "      <td>40.716657</td>\n",
       "      <td>-73.93637</td>\n",
       "      <td>37452</td>\n",
       "      <td>Subscriber</td>\n",
       "      <td>1989</td>\n",
       "      <td>2</td>\n",
       "    </tr>\n",
       "    <tr>\n",
       "      <th>3</th>\n",
       "      <td>2382</td>\n",
       "      <td>2020-11-01 00:00:14.7070</td>\n",
       "      <td>2020-11-01 00:39:57.0030</td>\n",
       "      <td>3783</td>\n",
       "      <td>Cliff St &amp; Fulton St</td>\n",
       "      <td>40.70838</td>\n",
       "      <td>-74.00495</td>\n",
       "      <td>3167</td>\n",
       "      <td>Amsterdam Ave &amp; W 73 St</td>\n",
       "      <td>40.77966809007312</td>\n",
       "      <td>-73.98093044757842</td>\n",
       "      <td>40417</td>\n",
       "      <td>Subscriber</td>\n",
       "      <td>1981</td>\n",
       "      <td>1</td>\n",
       "    </tr>\n",
       "    <tr>\n",
       "      <th>4</th>\n",
       "      <td>166</td>\n",
       "      <td>2020-11-01 00:00:15.9690</td>\n",
       "      <td>2020-11-01 00:03:02.8980</td>\n",
       "      <td>422</td>\n",
       "      <td>W 59 St &amp; 10 Ave</td>\n",
       "      <td>40.770513</td>\n",
       "      <td>-73.988038</td>\n",
       "      <td>3175</td>\n",
       "      <td>W 70 St &amp; Amsterdam Ave</td>\n",
       "      <td>40.77748046</td>\n",
       "      <td>-73.98288594</td>\n",
       "      <td>35776</td>\n",
       "      <td>Subscriber</td>\n",
       "      <td>1990</td>\n",
       "      <td>1</td>\n",
       "    </tr>\n",
       "  </tbody>\n",
       "</table>\n",
       "</div>"
      ],
      "text/plain": [
       "  tripduration                 starttime                  stoptime  \\\n",
       "0          521  2020-11-01 00:00:07.0150  2020-11-01 00:08:48.3010   \n",
       "1          492  2020-11-01 00:00:10.8080  2020-11-01 00:08:23.3170   \n",
       "2         1979  2020-11-01 00:00:14.7040  2020-11-01 00:33:14.1640   \n",
       "3         2382  2020-11-01 00:00:14.7070  2020-11-01 00:39:57.0030   \n",
       "4          166  2020-11-01 00:00:15.9690  2020-11-01 00:03:02.8980   \n",
       "\n",
       "  start station id      start station name start station latitude  \\\n",
       "0             3467  W Broadway & Spring St      40.72494672359416   \n",
       "1             3557           40 Ave & 9 St               40.75742   \n",
       "2             3085    Roebling St & N 4 St               40.71469   \n",
       "3             3783    Cliff St & Fulton St               40.70838   \n",
       "4              422        W 59 St & 10 Ave              40.770513   \n",
       "\n",
       "  start station longitude end station id          end station name  \\\n",
       "0      -74.00165855884552            350     Clinton St & Grand St   \n",
       "1              -73.945133           3557             40 Ave & 9 St   \n",
       "2               -73.95739           3854  Morgan Ave & Maspeth Ave   \n",
       "3               -74.00495           3167   Amsterdam Ave & W 73 St   \n",
       "4              -73.988038           3175   W 70 St & Amsterdam Ave   \n",
       "\n",
       "  end station latitude end station longitude bikeid    usertype birth year  \\\n",
       "0          40.71559509           -73.9870295  40405  Subscriber       1989   \n",
       "1             40.75742            -73.945133  46504  Subscriber       1970   \n",
       "2            40.716657             -73.93637  37452  Subscriber       1989   \n",
       "3    40.77966809007312    -73.98093044757842  40417  Subscriber       1981   \n",
       "4          40.77748046          -73.98288594  35776  Subscriber       1990   \n",
       "\n",
       "  gender  \n",
       "0      1  \n",
       "1      2  \n",
       "2      2  \n",
       "3      1  \n",
       "4      1  "
      ]
     },
     "execution_count": 23,
     "metadata": {},
     "output_type": "execute_result"
    }
   ],
   "source": [
    "df.limit(5).toPandas()"
   ]
  },
  {
   "cell_type": "markdown",
   "metadata": {},
   "source": [
    "# Fix Columns"
   ]
  },
  {
   "cell_type": "code",
   "execution_count": 33,
   "metadata": {},
   "outputs": [
    {
     "name": "stdout",
     "output_type": "stream",
     "text": [
      "root\n",
      " |-- tripduration: string (nullable = true)\n",
      " |-- starttime: string (nullable = true)\n",
      " |-- stoptime: string (nullable = true)\n",
      " |-- start station id: string (nullable = true)\n",
      " |-- start station name: string (nullable = true)\n",
      " |-- start station latitude: string (nullable = true)\n",
      " |-- start station longitude: string (nullable = true)\n",
      " |-- end station id: string (nullable = true)\n",
      " |-- end station name: string (nullable = true)\n",
      " |-- end station latitude: string (nullable = true)\n",
      " |-- end station longitude: string (nullable = true)\n",
      " |-- bikeid: string (nullable = true)\n",
      " |-- usertype: string (nullable = true)\n",
      " |-- birth year: string (nullable = true)\n",
      " |-- gender: string (nullable = true)\n",
      "\n"
     ]
    }
   ],
   "source": [
    "df.printSchema()"
   ]
  },
  {
   "cell_type": "code",
   "execution_count": 31,
   "metadata": {},
   "outputs": [
    {
     "data": {
      "text/plain": [
       "['tripduration',\n",
       " 'starttime',\n",
       " 'stoptime',\n",
       " 'start station id',\n",
       " 'start station name',\n",
       " 'start station latitude',\n",
       " 'start station longitude',\n",
       " 'end station id',\n",
       " 'end station name',\n",
       " 'end station latitude',\n",
       " 'end station longitude',\n",
       " 'bikeid',\n",
       " 'usertype',\n",
       " 'birth year',\n",
       " 'gender']"
      ]
     },
     "execution_count": 31,
     "metadata": {},
     "output_type": "execute_result"
    }
   ],
   "source": [
    "df.schema.names"
   ]
  },
  {
   "cell_type": "code",
   "execution_count": 35,
   "metadata": {},
   "outputs": [],
   "source": [
    "from pyspark.sql.functions import to_timestamp"
   ]
  },
  {
   "cell_type": "code",
   "execution_count": 42,
   "metadata": {},
   "outputs": [
    {
     "data": {
      "text/plain": [
       "Column<b'CAST(stoptime AS DATE)'>"
      ]
     },
     "execution_count": 42,
     "metadata": {},
     "output_type": "execute_result"
    }
   ],
   "source": [
    "df[\"stoptime\"].cast(DateType())"
   ]
  },
  {
   "cell_type": "code",
   "execution_count": 48,
   "metadata": {},
   "outputs": [
    {
     "data": {
      "text/plain": [
       "[Row(datetime=datetime.datetime(2020, 11, 1, 0, 8, 48, 301000)),\n",
       " Row(datetime=datetime.datetime(2020, 11, 1, 0, 8, 23, 317000)),\n",
       " Row(datetime=datetime.datetime(2020, 11, 1, 0, 33, 14, 164000)),\n",
       " Row(datetime=datetime.datetime(2020, 11, 1, 0, 39, 57, 3000)),\n",
       " Row(datetime=datetime.datetime(2020, 11, 1, 0, 3, 2, 898000))]"
      ]
     },
     "execution_count": 48,
     "metadata": {},
     "output_type": "execute_result"
    }
   ],
   "source": [
    "# turns string into timestamp\n",
    "df.limit(5).select(df.stoptime.cast(TimestampType()).alias('datetime')).collect()"
   ]
  },
  {
   "cell_type": "code",
   "execution_count": 51,
   "metadata": {},
   "outputs": [
    {
     "ename": "TypeError",
     "evalue": "'Column' object is not callable",
     "output_type": "error",
     "traceback": [
      "\u001b[0;31m---------------------------------------------------------------------------\u001b[0m",
      "\u001b[0;31mTypeError\u001b[0m                                 Traceback (most recent call last)",
      "\u001b[0;32m<ipython-input-51-fe3f0be94639>\u001b[0m in \u001b[0;36m<module>\u001b[0;34m\u001b[0m\n\u001b[1;32m      1\u001b[0m \u001b[0;31m# turns string into timestamp\u001b[0m\u001b[0;34m\u001b[0m\u001b[0;34m\u001b[0m\u001b[0;34m\u001b[0m\u001b[0m\n\u001b[0;32m----> 2\u001b[0;31m \u001b[0mdf\u001b[0m\u001b[0;34m.\u001b[0m\u001b[0mstoptime\u001b[0m\u001b[0;34m=\u001b[0m \u001b[0mdf\u001b[0m\u001b[0;34m.\u001b[0m\u001b[0mselect\u001b[0m\u001b[0;34m(\u001b[0m\u001b[0mdf\u001b[0m\u001b[0;34m.\u001b[0m\u001b[0mstoptime\u001b[0m\u001b[0;34m.\u001b[0m\u001b[0mcast\u001b[0m\u001b[0;34m(\u001b[0m\u001b[0mTimestampType\u001b[0m\u001b[0;34m(\u001b[0m\u001b[0;34m)\u001b[0m\u001b[0;34m)\u001b[0m\u001b[0;34m.\u001b[0m\u001b[0mcollect\u001b[0m\u001b[0;34m(\u001b[0m\u001b[0;34m)\u001b[0m\u001b[0;34m)\u001b[0m\u001b[0;34m\u001b[0m\u001b[0;34m\u001b[0m\u001b[0m\n\u001b[0m",
      "\u001b[0;31mTypeError\u001b[0m: 'Column' object is not callable"
     ]
    }
   ],
   "source": [
    "# turns string into timestamp\n",
    "df.select(df.stoptime.cast(TimestampType()).collect())"
   ]
  },
  {
   "cell_type": "code",
   "execution_count": 56,
   "metadata": {},
   "outputs": [],
   "source": [
    "# save column\n",
    "df = df.withColumn(\"stoptime_ts\",to_timestamp(col(\"stoptime\")))"
   ]
  },
  {
   "cell_type": "code",
   "execution_count": 58,
   "metadata": {},
   "outputs": [
    {
     "name": "stdout",
     "output_type": "stream",
     "text": [
      "root\n",
      " |-- tripduration: string (nullable = true)\n",
      " |-- starttime: string (nullable = true)\n",
      " |-- stoptime: string (nullable = true)\n",
      " |-- start station id: string (nullable = true)\n",
      " |-- start station name: string (nullable = true)\n",
      " |-- start station latitude: string (nullable = true)\n",
      " |-- start station longitude: string (nullable = true)\n",
      " |-- end station id: string (nullable = true)\n",
      " |-- end station name: string (nullable = true)\n",
      " |-- end station latitude: string (nullable = true)\n",
      " |-- end station longitude: string (nullable = true)\n",
      " |-- bikeid: string (nullable = true)\n",
      " |-- usertype: string (nullable = true)\n",
      " |-- birth year: string (nullable = true)\n",
      " |-- gender: string (nullable = true)\n",
      " |-- stoptime_ts: timestamp (nullable = true)\n",
      "\n"
     ]
    }
   ],
   "source": [
    "df.printSchema()"
   ]
  },
  {
   "cell_type": "markdown",
   "metadata": {},
   "source": [
    "### Get Column With Date"
   ]
  },
  {
   "cell_type": "code",
   "execution_count": 70,
   "metadata": {},
   "outputs": [],
   "source": [
    "# Add column to pyspark dataframe\n",
    "# https://towardsdatascience.com/5-ways-to-add-a-new-column-in-a-pyspark-dataframe-4e75c2fd8c08"
   ]
  },
  {
   "cell_type": "code",
   "execution_count": 91,
   "metadata": {},
   "outputs": [],
   "source": [
    "# correct code\n",
    "df.select(date_format('stoptime_ts', 'MM/dd/yyy').alias('date')).collect()"
   ]
  },
  {
   "cell_type": "code",
   "execution_count": 88,
   "metadata": {},
   "outputs": [],
   "source": [
    "from pyspark.sql.functions import lit"
   ]
  },
  {
   "cell_type": "code",
   "execution_count": 96,
   "metadata": {},
   "outputs": [],
   "source": [
    "# create date column\n",
    "df = df.withColumn(\"stoptime_date\",date_format('stoptime_ts','MM/dd/yyy'))"
   ]
  },
  {
   "cell_type": "markdown",
   "metadata": {},
   "source": [
    "### Get Column With Time"
   ]
  },
  {
   "cell_type": "code",
   "execution_count": 106,
   "metadata": {},
   "outputs": [],
   "source": [
    "# create time column\n",
    "df = df.withColumn('stoptime_time', date_format('stoptime_ts', 'HH:mm:ss'))"
   ]
  },
  {
   "cell_type": "markdown",
   "metadata": {},
   "source": [
    "### Get Zip Code From Latitude and Longitude"
   ]
  },
  {
   "cell_type": "code",
   "execution_count": 206,
   "metadata": {},
   "outputs": [
    {
     "name": "stdout",
     "output_type": "stream",
     "text": [
      "+--------------------------------+\n",
      "|count(DISTINCT end station name)|\n",
      "+--------------------------------+\n",
      "|                            1161|\n",
      "+--------------------------------+\n",
      "\n"
     ]
    }
   ],
   "source": [
    "df.select(F.countDistinct(\"end station name\")).show()"
   ]
  },
  {
   "cell_type": "code",
   "execution_count": 132,
   "metadata": {},
   "outputs": [],
   "source": [
    "# get list of unique station names\n",
    "station_names = [i for i in df.select('end station name').distinct().collect()]"
   ]
  },
  {
   "cell_type": "code",
   "execution_count": 207,
   "metadata": {},
   "outputs": [
    {
     "data": {
      "text/plain": [
       "1161"
      ]
     },
     "execution_count": 207,
     "metadata": {},
     "output_type": "execute_result"
    }
   ],
   "source": [
    "len(station_names)"
   ]
  },
  {
   "cell_type": "code",
   "execution_count": 144,
   "metadata": {},
   "outputs": [],
   "source": [
    "# turn list of row objects into list of names\n",
    "station_names_clean = [station_names[i]['end station name'] for i in range(len(station_names))]"
   ]
  },
  {
   "cell_type": "code",
   "execution_count": 208,
   "metadata": {},
   "outputs": [
    {
     "data": {
      "text/plain": [
       "1161"
      ]
     },
     "execution_count": 208,
     "metadata": {},
     "output_type": "execute_result"
    }
   ],
   "source": [
    "len(station_names_clean)"
   ]
  },
  {
   "cell_type": "code",
   "execution_count": 185,
   "metadata": {},
   "outputs": [
    {
     "data": {
      "text/plain": [
       "'40.6686273'"
      ]
     },
     "execution_count": 185,
     "metadata": {},
     "output_type": "execute_result"
    }
   ],
   "source": [
    "# Get the first row of matching station name latitude\n",
    "df[df['end station name'] == station_names_clean[0]].first()['end station latitude']"
   ]
  },
  {
   "cell_type": "code",
   "execution_count": 186,
   "metadata": {},
   "outputs": [
    {
     "data": {
      "text/plain": [
       "'-73.98700053'"
      ]
     },
     "execution_count": 186,
     "metadata": {},
     "output_type": "execute_result"
    }
   ],
   "source": [
    "# Get the first row of matching station name longitude\n",
    "df[df['end station name'] == station_names_clean[0]].first()['end station longitude']"
   ]
  },
  {
   "cell_type": "code",
   "execution_count": 199,
   "metadata": {},
   "outputs": [],
   "source": [
    "# create empty list of stations\n",
    "station_list = []\n",
    "\n",
    "# create dictionary with name, latitude, and longitude\n",
    "for i in station_names_clean:\n",
    "    station_dict= {\"station_name\": i,\n",
    "    \"station_latitude\": df[df['end station name'] == i].first()['end station latitude'],\n",
    "    \"station_longitude\": df[df['end station name'] == i].first()['end station longitude']}\n",
    "    station_list.append(station_dict)"
   ]
  },
  {
   "cell_type": "code",
   "execution_count": 201,
   "metadata": {
    "scrolled": true
   },
   "outputs": [],
   "source": [
    "station_table = pd.DataFrame(station_list)"
   ]
  },
  {
   "cell_type": "code",
   "execution_count": 205,
   "metadata": {},
   "outputs": [],
   "source": [
    "station_table.to_csv(\"station_table.csv\")"
   ]
  },
  {
   "cell_type": "code",
   "execution_count": 209,
   "metadata": {},
   "outputs": [
    {
     "data": {
      "text/html": [
       "<div>\n",
       "<style scoped>\n",
       "    .dataframe tbody tr th:only-of-type {\n",
       "        vertical-align: middle;\n",
       "    }\n",
       "\n",
       "    .dataframe tbody tr th {\n",
       "        vertical-align: top;\n",
       "    }\n",
       "\n",
       "    .dataframe thead th {\n",
       "        text-align: right;\n",
       "    }\n",
       "</style>\n",
       "<table border=\"1\" class=\"dataframe\">\n",
       "  <thead>\n",
       "    <tr style=\"text-align: right;\">\n",
       "      <th></th>\n",
       "      <th>station_name</th>\n",
       "      <th>station_latitude</th>\n",
       "      <th>station_longitude</th>\n",
       "    </tr>\n",
       "  </thead>\n",
       "  <tbody>\n",
       "    <tr>\n",
       "      <th>0</th>\n",
       "      <td>10 St &amp; 5 Ave</td>\n",
       "      <td>40.6686273</td>\n",
       "      <td>-73.98700053</td>\n",
       "    </tr>\n",
       "    <tr>\n",
       "      <th>1</th>\n",
       "      <td>College Ave &amp; E 170 St</td>\n",
       "      <td>40.837576</td>\n",
       "      <td>-73.910489</td>\n",
       "    </tr>\n",
       "    <tr>\n",
       "      <th>2</th>\n",
       "      <td>45 Rd &amp; 11 St</td>\n",
       "      <td>40.74708586</td>\n",
       "      <td>-73.94977234</td>\n",
       "    </tr>\n",
       "    <tr>\n",
       "      <th>3</th>\n",
       "      <td>N 11 St &amp; Kent Ave</td>\n",
       "      <td>40.72248188638219</td>\n",
       "      <td>-73.95921930670738</td>\n",
       "    </tr>\n",
       "    <tr>\n",
       "      <th>4</th>\n",
       "      <td>E 141 St &amp; Jackson Ave</td>\n",
       "      <td>40.806896</td>\n",
       "      <td>-73.911837</td>\n",
       "    </tr>\n",
       "    <tr>\n",
       "      <th>...</th>\n",
       "      <td>...</td>\n",
       "      <td>...</td>\n",
       "      <td>...</td>\n",
       "    </tr>\n",
       "    <tr>\n",
       "      <th>1156</th>\n",
       "      <td>Crescent St &amp; 34 Ave</td>\n",
       "      <td>40.76108</td>\n",
       "      <td>-73.930562</td>\n",
       "    </tr>\n",
       "    <tr>\n",
       "      <th>1157</th>\n",
       "      <td>6 Ave &amp; Canal St</td>\n",
       "      <td>40.72243797</td>\n",
       "      <td>-74.00566443</td>\n",
       "    </tr>\n",
       "    <tr>\n",
       "      <th>1158</th>\n",
       "      <td>Kosciuszko St &amp; Tompkins Ave</td>\n",
       "      <td>40.69128258</td>\n",
       "      <td>-73.9452416</td>\n",
       "    </tr>\n",
       "    <tr>\n",
       "      <th>1159</th>\n",
       "      <td>37 Ave &amp; 35 St</td>\n",
       "      <td>40.7531106</td>\n",
       "      <td>-73.9279917</td>\n",
       "    </tr>\n",
       "    <tr>\n",
       "      <th>1160</th>\n",
       "      <td>Grand Concourse &amp; E 171 St</td>\n",
       "      <td>40.839549</td>\n",
       "      <td>-73.913004</td>\n",
       "    </tr>\n",
       "  </tbody>\n",
       "</table>\n",
       "<p>1161 rows × 3 columns</p>\n",
       "</div>"
      ],
      "text/plain": [
       "                      station_name   station_latitude   station_longitude\n",
       "0                    10 St & 5 Ave         40.6686273        -73.98700053\n",
       "1           College Ave & E 170 St          40.837576          -73.910489\n",
       "2                    45 Rd & 11 St        40.74708586        -73.94977234\n",
       "3               N 11 St & Kent Ave  40.72248188638219  -73.95921930670738\n",
       "4           E 141 St & Jackson Ave          40.806896          -73.911837\n",
       "...                            ...                ...                 ...\n",
       "1156          Crescent St & 34 Ave           40.76108          -73.930562\n",
       "1157              6 Ave & Canal St        40.72243797        -74.00566443\n",
       "1158  Kosciuszko St & Tompkins Ave        40.69128258         -73.9452416\n",
       "1159                37 Ave & 35 St         40.7531106         -73.9279917\n",
       "1160    Grand Concourse & E 171 St          40.839549          -73.913004\n",
       "\n",
       "[1161 rows x 3 columns]"
      ]
     },
     "execution_count": 209,
     "metadata": {},
     "output_type": "execute_result"
    }
   ],
   "source": [
    "station_table"
   ]
  },
  {
   "cell_type": "markdown",
   "metadata": {},
   "source": [
    "### Convert Lat and Longitude to Address"
   ]
  },
  {
   "cell_type": "code",
   "execution_count": 116,
   "metadata": {},
   "outputs": [],
   "source": [
    "from geopy.geocoders import Nominatim"
   ]
  },
  {
   "cell_type": "code",
   "execution_count": 117,
   "metadata": {},
   "outputs": [],
   "source": [
    "geolocator = Nominatim(user_agent=\"my-application-john\")\n",
    "location = geolocator.reverse(\"40.71559509, -73.9870295\")"
   ]
  },
  {
   "cell_type": "code",
   "execution_count": 214,
   "metadata": {
    "scrolled": true
   },
   "outputs": [
    {
     "data": {
      "text/plain": [
       "'10002'"
      ]
     },
     "execution_count": 214,
     "metadata": {},
     "output_type": "execute_result"
    }
   ],
   "source": [
    "location.raw['address']['postcode']"
   ]
  },
  {
   "cell_type": "code",
   "execution_count": 240,
   "metadata": {},
   "outputs": [],
   "source": [
    "# reset index to manipulate data by column name\n",
    "station_table.reset_index(inplace=True)"
   ]
  },
  {
   "cell_type": "code",
   "execution_count": 248,
   "metadata": {},
   "outputs": [],
   "source": [
    "# drop old index column\n",
    "station_table.drop(columns=\"index\", inplace=True)"
   ]
  },
  {
   "cell_type": "code",
   "execution_count": 252,
   "metadata": {},
   "outputs": [],
   "source": [
    "# crate column named zip\n",
    "station_table[\"zip\"]=0"
   ]
  },
  {
   "cell_type": "code",
   "execution_count": 257,
   "metadata": {},
   "outputs": [
    {
     "data": {
      "text/plain": [
       "'40.6686273'"
      ]
     },
     "execution_count": 257,
     "metadata": {},
     "output_type": "execute_result"
    }
   ],
   "source": [
    "station_table.loc[0]['station_latitude']"
   ]
  },
  {
   "cell_type": "code",
   "execution_count": 258,
   "metadata": {},
   "outputs": [
    {
     "data": {
      "text/plain": [
       "'-73.98700053'"
      ]
     },
     "execution_count": 258,
     "metadata": {},
     "output_type": "execute_result"
    }
   ],
   "source": [
    "station_table.loc[0]['station_longitude']"
   ]
  },
  {
   "cell_type": "code",
   "execution_count": 260,
   "metadata": {},
   "outputs": [],
   "source": [
    "# test conversion\n",
    "lat = station_table.loc[1]['station_latitude']\n",
    "long = station_table.loc[1]['station_longitude']\n",
    "location = geolocator.reverse(f\"{lat}, {long}\")"
   ]
  },
  {
   "cell_type": "code",
   "execution_count": 267,
   "metadata": {},
   "outputs": [
    {
     "data": {
      "text/plain": [
       "{'place_id': 32318567,\n",
       " 'licence': 'Data © OpenStreetMap contributors, ODbL 1.0. https://osm.org/copyright',\n",
       " 'osm_type': 'node',\n",
       " 'osm_id': 2806671743,\n",
       " 'lat': '40.8376939',\n",
       " 'lon': '-73.9103456',\n",
       " 'display_name': '1400, College Avenue, The Bronx, Bronx County, New York, 10456, United States',\n",
       " 'address': {'house_number': '1400',\n",
       "  'road': 'College Avenue',\n",
       "  'suburb': 'The Bronx',\n",
       "  'neighbourhood': 'Bronx County',\n",
       "  'city': 'New York',\n",
       "  'state': 'New York',\n",
       "  'postcode': '10456',\n",
       "  'country': 'United States',\n",
       "  'country_code': 'us'},\n",
       " 'boundingbox': ['40.8376439', '40.8377439', '-73.9103956', '-73.9102956']}"
      ]
     },
     "execution_count": 267,
     "metadata": {},
     "output_type": "execute_result"
    }
   ],
   "source": [
    "location.raw"
   ]
  },
  {
   "cell_type": "code",
   "execution_count": 272,
   "metadata": {},
   "outputs": [
    {
     "data": {
      "text/plain": [
       "'10456'"
      ]
     },
     "execution_count": 272,
     "metadata": {},
     "output_type": "execute_result"
    }
   ],
   "source": [
    "location.raw['address']['postcode']"
   ]
  },
  {
   "cell_type": "code",
   "execution_count": 277,
   "metadata": {},
   "outputs": [
    {
     "data": {
      "text/html": [
       "<div>\n",
       "<style scoped>\n",
       "    .dataframe tbody tr th:only-of-type {\n",
       "        vertical-align: middle;\n",
       "    }\n",
       "\n",
       "    .dataframe tbody tr th {\n",
       "        vertical-align: top;\n",
       "    }\n",
       "\n",
       "    .dataframe thead th {\n",
       "        text-align: right;\n",
       "    }\n",
       "</style>\n",
       "<table border=\"1\" class=\"dataframe\">\n",
       "  <thead>\n",
       "    <tr style=\"text-align: right;\">\n",
       "      <th></th>\n",
       "      <th>station_name</th>\n",
       "      <th>station_latitude</th>\n",
       "      <th>station_longitude</th>\n",
       "      <th>zip</th>\n",
       "    </tr>\n",
       "  </thead>\n",
       "  <tbody>\n",
       "    <tr>\n",
       "      <th>0</th>\n",
       "      <td>10 St &amp; 5 Ave</td>\n",
       "      <td>40.6686273</td>\n",
       "      <td>-73.98700053</td>\n",
       "      <td>0</td>\n",
       "    </tr>\n",
       "    <tr>\n",
       "      <th>1</th>\n",
       "      <td>College Ave &amp; E 170 St</td>\n",
       "      <td>40.837576</td>\n",
       "      <td>-73.910489</td>\n",
       "      <td>0</td>\n",
       "    </tr>\n",
       "    <tr>\n",
       "      <th>2</th>\n",
       "      <td>45 Rd &amp; 11 St</td>\n",
       "      <td>40.74708586</td>\n",
       "      <td>-73.94977234</td>\n",
       "      <td>0</td>\n",
       "    </tr>\n",
       "    <tr>\n",
       "      <th>3</th>\n",
       "      <td>N 11 St &amp; Kent Ave</td>\n",
       "      <td>40.72248188638219</td>\n",
       "      <td>-73.95921930670738</td>\n",
       "      <td>0</td>\n",
       "    </tr>\n",
       "    <tr>\n",
       "      <th>4</th>\n",
       "      <td>E 141 St &amp; Jackson Ave</td>\n",
       "      <td>40.806896</td>\n",
       "      <td>-73.911837</td>\n",
       "      <td>0</td>\n",
       "    </tr>\n",
       "    <tr>\n",
       "      <th>...</th>\n",
       "      <td>...</td>\n",
       "      <td>...</td>\n",
       "      <td>...</td>\n",
       "      <td>...</td>\n",
       "    </tr>\n",
       "    <tr>\n",
       "      <th>1156</th>\n",
       "      <td>Crescent St &amp; 34 Ave</td>\n",
       "      <td>40.76108</td>\n",
       "      <td>-73.930562</td>\n",
       "      <td>0</td>\n",
       "    </tr>\n",
       "    <tr>\n",
       "      <th>1157</th>\n",
       "      <td>6 Ave &amp; Canal St</td>\n",
       "      <td>40.72243797</td>\n",
       "      <td>-74.00566443</td>\n",
       "      <td>0</td>\n",
       "    </tr>\n",
       "    <tr>\n",
       "      <th>1158</th>\n",
       "      <td>Kosciuszko St &amp; Tompkins Ave</td>\n",
       "      <td>40.69128258</td>\n",
       "      <td>-73.9452416</td>\n",
       "      <td>0</td>\n",
       "    </tr>\n",
       "    <tr>\n",
       "      <th>1159</th>\n",
       "      <td>37 Ave &amp; 35 St</td>\n",
       "      <td>40.7531106</td>\n",
       "      <td>-73.9279917</td>\n",
       "      <td>0</td>\n",
       "    </tr>\n",
       "    <tr>\n",
       "      <th>1160</th>\n",
       "      <td>Grand Concourse &amp; E 171 St</td>\n",
       "      <td>40.839549</td>\n",
       "      <td>-73.913004</td>\n",
       "      <td>0</td>\n",
       "    </tr>\n",
       "  </tbody>\n",
       "</table>\n",
       "<p>1161 rows × 4 columns</p>\n",
       "</div>"
      ],
      "text/plain": [
       "                      station_name   station_latitude   station_longitude  zip\n",
       "0                    10 St & 5 Ave         40.6686273        -73.98700053    0\n",
       "1           College Ave & E 170 St          40.837576          -73.910489    0\n",
       "2                    45 Rd & 11 St        40.74708586        -73.94977234    0\n",
       "3               N 11 St & Kent Ave  40.72248188638219  -73.95921930670738    0\n",
       "4           E 141 St & Jackson Ave          40.806896          -73.911837    0\n",
       "...                            ...                ...                 ...  ...\n",
       "1156          Crescent St & 34 Ave           40.76108          -73.930562    0\n",
       "1157              6 Ave & Canal St        40.72243797        -74.00566443    0\n",
       "1158  Kosciuszko St & Tompkins Ave        40.69128258         -73.9452416    0\n",
       "1159                37 Ave & 35 St         40.7531106         -73.9279917    0\n",
       "1160    Grand Concourse & E 171 St          40.839549          -73.913004    0\n",
       "\n",
       "[1161 rows x 4 columns]"
      ]
     },
     "execution_count": 277,
     "metadata": {},
     "output_type": "execute_result"
    }
   ],
   "source": [
    "station_table"
   ]
  },
  {
   "cell_type": "code",
   "execution_count": 284,
   "metadata": {},
   "outputs": [
    {
     "data": {
      "text/plain": [
       "274"
      ]
     },
     "execution_count": 284,
     "metadata": {},
     "output_type": "execute_result"
    }
   ],
   "source": [
    "len(stations_list_with_zip)"
   ]
  },
  {
   "cell_type": "code",
   "execution_count": 286,
   "metadata": {},
   "outputs": [],
   "source": [
    "# stations_list_with_zip = []\n",
    "stations_list_with_address = []"
   ]
  },
  {
   "cell_type": "code",
   "execution_count": 285,
   "metadata": {},
   "outputs": [
    {
     "data": {
      "text/plain": [
       "range(274, 1161)"
      ]
     },
     "execution_count": 285,
     "metadata": {},
     "output_type": "execute_result"
    }
   ],
   "source": [
    "range(len(station_table))[274:]"
   ]
  },
  {
   "cell_type": "code",
   "execution_count": 292,
   "metadata": {},
   "outputs": [
    {
     "data": {
      "text/plain": [
       "1161"
      ]
     },
     "execution_count": 292,
     "metadata": {},
     "output_type": "execute_result"
    }
   ],
   "source": [
    "len(stations_list_with_zip)"
   ]
  },
  {
   "cell_type": "code",
   "execution_count": 294,
   "metadata": {},
   "outputs": [
    {
     "data": {
      "text/plain": [
       "4"
      ]
     },
     "execution_count": 294,
     "metadata": {},
     "output_type": "execute_result"
    }
   ],
   "source": [
    "len(stations_list_with_address)"
   ]
  },
  {
   "cell_type": "code",
   "execution_count": 291,
   "metadata": {},
   "outputs": [],
   "source": [
    "# put everything together\n",
    "for i in range(len(station_table))[1066:]:\n",
    "    try:\n",
    "        name = station_table.loc[i]['station_name']\n",
    "        lat = station_table.loc[i]['station_latitude']\n",
    "        long = station_table.loc[i]['station_longitude']\n",
    "        location = geolocator.reverse(f\"{lat}, {long}\")\n",
    "        zip_code = location.raw['address']['postcode']\n",
    "        station_dictionary = {\n",
    "            \"station_name\": name,\n",
    "            \"station_latitude\": lat,\n",
    "            \"station_longitude\": long,\n",
    "            \"station_zip\": zip_code\n",
    "        }\n",
    "        stations_list_with_zip.append(station_dictionary)\n",
    "    except:\n",
    "        name = station_table.loc[i]['station_name']\n",
    "        lat = station_table.loc[i]['station_latitude']\n",
    "        long = station_table.loc[i]['station_longitude']\n",
    "        location = geolocator.reverse(f\"{lat}, {long}\")\n",
    "        address = location.raw['address']\n",
    "        station_dictionary = {\n",
    "            \"station_name\": name,\n",
    "            \"station_latitude\": lat,\n",
    "            \"station_longitude\": long,\n",
    "            \"station_address\": address}\n",
    "        stations_list_with_address.append(station_dictionary)\n",
    "        \n",
    "    \n",
    "    \n",
    "    "
   ]
  },
  {
   "cell_type": "code",
   "execution_count": 297,
   "metadata": {},
   "outputs": [],
   "source": [
    "stations_table_w_zip = pd.DataFrame(stations_list_with_zip)"
   ]
  },
  {
   "cell_type": "code",
   "execution_count": 298,
   "metadata": {},
   "outputs": [],
   "source": [
    "stations_table_w_zip.to_csv(\"stations_table_w_zip.csv\")"
   ]
  },
  {
   "cell_type": "code",
   "execution_count": 324,
   "metadata": {},
   "outputs": [
    {
     "data": {
      "text/plain": [
       "str"
      ]
     },
     "execution_count": 324,
     "metadata": {},
     "output_type": "execute_result"
    }
   ],
   "source": [
    "type(stations_table_w_zip[\"station_zip\"][0])"
   ]
  },
  {
   "cell_type": "code",
   "execution_count": 315,
   "metadata": {},
   "outputs": [],
   "source": [
    "test_df['station_zip']=0"
   ]
  },
  {
   "cell_type": "code",
   "execution_count": 326,
   "metadata": {},
   "outputs": [
    {
     "data": {
      "text/plain": [
       "0    10043\n",
       "1        0\n",
       "2        0\n",
       "3        0\n",
       "Name: station_zip, dtype: int64"
      ]
     },
     "execution_count": 326,
     "metadata": {},
     "output_type": "execute_result"
    }
   ],
   "source": [
    "test_df['station_zip'][0]=\"10043\""
   ]
  },
  {
   "cell_type": "code",
   "execution_count": 330,
   "metadata": {},
   "outputs": [
    {
     "name": "stderr",
     "output_type": "stream",
     "text": [
      "<ipython-input-330-a600d1edad66>:1: SettingWithCopyWarning: \n",
      "A value is trying to be set on a copy of a slice from a DataFrame\n",
      "\n",
      "See the caveats in the documentation: https://pandas.pydata.org/pandas-docs/stable/user_guide/indexing.html#returning-a-view-versus-a-copy\n",
      "  test_df['station_zip'][1]=\"10019\"\n"
     ]
    }
   ],
   "source": [
    "test_df['station_zip'][1]=\"10019\""
   ]
  },
  {
   "cell_type": "code",
   "execution_count": 332,
   "metadata": {},
   "outputs": [
    {
     "name": "stderr",
     "output_type": "stream",
     "text": [
      "<ipython-input-332-f56457cb0979>:1: SettingWithCopyWarning: \n",
      "A value is trying to be set on a copy of a slice from a DataFrame\n",
      "\n",
      "See the caveats in the documentation: https://pandas.pydata.org/pandas-docs/stable/user_guide/indexing.html#returning-a-view-versus-a-copy\n",
      "  test_df['station_zip'][2]=\"10019\"\n"
     ]
    }
   ],
   "source": [
    "test_df['station_zip'][2]=\"10019\""
   ]
  },
  {
   "cell_type": "code",
   "execution_count": 333,
   "metadata": {},
   "outputs": [
    {
     "name": "stderr",
     "output_type": "stream",
     "text": [
      "<ipython-input-333-e9cb9291cf99>:1: SettingWithCopyWarning: \n",
      "A value is trying to be set on a copy of a slice from a DataFrame\n",
      "\n",
      "See the caveats in the documentation: https://pandas.pydata.org/pandas-docs/stable/user_guide/indexing.html#returning-a-view-versus-a-copy\n",
      "  test_df['station_zip'][3]=\"10003\"\n"
     ]
    }
   ],
   "source": [
    "test_df['station_zip'][3]=\"10003\""
   ]
  },
  {
   "cell_type": "code",
   "execution_count": 306,
   "metadata": {},
   "outputs": [],
   "source": [
    "test_df = pd.DataFrame(stations_list_with_address)"
   ]
  },
  {
   "cell_type": "code",
   "execution_count": 337,
   "metadata": {},
   "outputs": [
    {
     "data": {
      "text/html": [
       "<div>\n",
       "<style scoped>\n",
       "    .dataframe tbody tr th:only-of-type {\n",
       "        vertical-align: middle;\n",
       "    }\n",
       "\n",
       "    .dataframe tbody tr th {\n",
       "        vertical-align: top;\n",
       "    }\n",
       "\n",
       "    .dataframe thead th {\n",
       "        text-align: right;\n",
       "    }\n",
       "</style>\n",
       "<table border=\"1\" class=\"dataframe\">\n",
       "  <thead>\n",
       "    <tr style=\"text-align: right;\">\n",
       "      <th></th>\n",
       "      <th>station_name</th>\n",
       "      <th>station_latitude</th>\n",
       "      <th>station_longitude</th>\n",
       "      <th>station_address</th>\n",
       "      <th>station_zip</th>\n",
       "    </tr>\n",
       "  </thead>\n",
       "  <tbody>\n",
       "    <tr>\n",
       "      <th>0</th>\n",
       "      <td>South St &amp; Gouverneur Ln</td>\n",
       "      <td>40.70355377</td>\n",
       "      <td>-74.00670227</td>\n",
       "      <td>{'man_made': 'Pier 11', 'road': 'Pier 11', 'ne...</td>\n",
       "      <td>10043</td>\n",
       "    </tr>\n",
       "    <tr>\n",
       "      <th>1</th>\n",
       "      <td>W 55 St &amp; 6 Ave</td>\n",
       "      <td>40.763189</td>\n",
       "      <td>-73.978434</td>\n",
       "      <td>{'neighbourhood': 'Midtown', 'suburb': 'Manhat...</td>\n",
       "      <td>10019</td>\n",
       "    </tr>\n",
       "    <tr>\n",
       "      <th>2</th>\n",
       "      <td>W 52 St &amp; 6 Ave</td>\n",
       "      <td>40.76132983124814</td>\n",
       "      <td>-73.97982001304626</td>\n",
       "      <td>{'neighbourhood': 'Theater District', 'suburb'...</td>\n",
       "      <td>10019</td>\n",
       "    </tr>\n",
       "    <tr>\n",
       "      <th>3</th>\n",
       "      <td>Cooper Square &amp; Astor Pl</td>\n",
       "      <td>40.72951496224949</td>\n",
       "      <td>-73.99075269699097</td>\n",
       "      <td>{'neighbourhood': 'East Village', 'suburb': 'M...</td>\n",
       "      <td>10003</td>\n",
       "    </tr>\n",
       "  </tbody>\n",
       "</table>\n",
       "</div>"
      ],
      "text/plain": [
       "               station_name   station_latitude   station_longitude  \\\n",
       "0  South St & Gouverneur Ln        40.70355377        -74.00670227   \n",
       "1           W 55 St & 6 Ave          40.763189          -73.978434   \n",
       "2           W 52 St & 6 Ave  40.76132983124814  -73.97982001304626   \n",
       "3  Cooper Square & Astor Pl  40.72951496224949  -73.99075269699097   \n",
       "\n",
       "                                     station_address  station_zip  \n",
       "0  {'man_made': 'Pier 11', 'road': 'Pier 11', 'ne...        10043  \n",
       "1  {'neighbourhood': 'Midtown', 'suburb': 'Manhat...        10019  \n",
       "2  {'neighbourhood': 'Theater District', 'suburb'...        10019  \n",
       "3  {'neighbourhood': 'East Village', 'suburb': 'M...        10003  "
      ]
     },
     "execution_count": 337,
     "metadata": {},
     "output_type": "execute_result"
    }
   ],
   "source": [
    "test_df"
   ]
  },
  {
   "cell_type": "code",
   "execution_count": 339,
   "metadata": {
    "scrolled": true
   },
   "outputs": [],
   "source": [
    "test_df.drop(columns=[\"station_address\"], inplace=True)"
   ]
  },
  {
   "cell_type": "code",
   "execution_count": 340,
   "metadata": {},
   "outputs": [
    {
     "data": {
      "text/html": [
       "<div>\n",
       "<style scoped>\n",
       "    .dataframe tbody tr th:only-of-type {\n",
       "        vertical-align: middle;\n",
       "    }\n",
       "\n",
       "    .dataframe tbody tr th {\n",
       "        vertical-align: top;\n",
       "    }\n",
       "\n",
       "    .dataframe thead th {\n",
       "        text-align: right;\n",
       "    }\n",
       "</style>\n",
       "<table border=\"1\" class=\"dataframe\">\n",
       "  <thead>\n",
       "    <tr style=\"text-align: right;\">\n",
       "      <th></th>\n",
       "      <th>station_name</th>\n",
       "      <th>station_latitude</th>\n",
       "      <th>station_longitude</th>\n",
       "      <th>station_zip</th>\n",
       "    </tr>\n",
       "  </thead>\n",
       "  <tbody>\n",
       "    <tr>\n",
       "      <th>0</th>\n",
       "      <td>South St &amp; Gouverneur Ln</td>\n",
       "      <td>40.70355377</td>\n",
       "      <td>-74.00670227</td>\n",
       "      <td>10043</td>\n",
       "    </tr>\n",
       "    <tr>\n",
       "      <th>1</th>\n",
       "      <td>W 55 St &amp; 6 Ave</td>\n",
       "      <td>40.763189</td>\n",
       "      <td>-73.978434</td>\n",
       "      <td>10019</td>\n",
       "    </tr>\n",
       "    <tr>\n",
       "      <th>2</th>\n",
       "      <td>W 52 St &amp; 6 Ave</td>\n",
       "      <td>40.76132983124814</td>\n",
       "      <td>-73.97982001304626</td>\n",
       "      <td>10019</td>\n",
       "    </tr>\n",
       "    <tr>\n",
       "      <th>3</th>\n",
       "      <td>Cooper Square &amp; Astor Pl</td>\n",
       "      <td>40.72951496224949</td>\n",
       "      <td>-73.99075269699097</td>\n",
       "      <td>10003</td>\n",
       "    </tr>\n",
       "  </tbody>\n",
       "</table>\n",
       "</div>"
      ],
      "text/plain": [
       "               station_name   station_latitude   station_longitude  \\\n",
       "0  South St & Gouverneur Ln        40.70355377        -74.00670227   \n",
       "1           W 55 St & 6 Ave          40.763189          -73.978434   \n",
       "2           W 52 St & 6 Ave  40.76132983124814  -73.97982001304626   \n",
       "3  Cooper Square & Astor Pl  40.72951496224949  -73.99075269699097   \n",
       "\n",
       "   station_zip  \n",
       "0        10043  \n",
       "1        10019  \n",
       "2        10019  \n",
       "3        10003  "
      ]
     },
     "execution_count": 340,
     "metadata": {},
     "output_type": "execute_result"
    }
   ],
   "source": [
    "test_df"
   ]
  },
  {
   "cell_type": "code",
   "execution_count": null,
   "metadata": {},
   "outputs": [],
   "source": []
  },
  {
   "cell_type": "code",
   "execution_count": null,
   "metadata": {},
   "outputs": [],
   "source": []
  },
  {
   "cell_type": "code",
   "execution_count": null,
   "metadata": {},
   "outputs": [],
   "source": []
  },
  {
   "cell_type": "code",
   "execution_count": null,
   "metadata": {},
   "outputs": [],
   "source": []
  },
  {
   "cell_type": "markdown",
   "metadata": {},
   "source": [
    "# Test"
   ]
  },
  {
   "cell_type": "code",
   "execution_count": 119,
   "metadata": {},
   "outputs": [
    {
     "data": {
      "text/html": [
       "<div>\n",
       "<style scoped>\n",
       "    .dataframe tbody tr th:only-of-type {\n",
       "        vertical-align: middle;\n",
       "    }\n",
       "\n",
       "    .dataframe tbody tr th {\n",
       "        vertical-align: top;\n",
       "    }\n",
       "\n",
       "    .dataframe thead th {\n",
       "        text-align: right;\n",
       "    }\n",
       "</style>\n",
       "<table border=\"1\" class=\"dataframe\">\n",
       "  <thead>\n",
       "    <tr style=\"text-align: right;\">\n",
       "      <th></th>\n",
       "      <th>tripduration</th>\n",
       "      <th>starttime</th>\n",
       "      <th>stoptime</th>\n",
       "      <th>start station id</th>\n",
       "      <th>start station name</th>\n",
       "      <th>start station latitude</th>\n",
       "      <th>start station longitude</th>\n",
       "      <th>end station id</th>\n",
       "      <th>end station name</th>\n",
       "      <th>end station latitude</th>\n",
       "      <th>end station longitude</th>\n",
       "      <th>bikeid</th>\n",
       "      <th>usertype</th>\n",
       "      <th>birth year</th>\n",
       "      <th>gender</th>\n",
       "      <th>stoptime_ts</th>\n",
       "      <th>stoptime_date</th>\n",
       "      <th>stoptime_time</th>\n",
       "    </tr>\n",
       "  </thead>\n",
       "  <tbody>\n",
       "    <tr>\n",
       "      <th>0</th>\n",
       "      <td>521</td>\n",
       "      <td>2020-11-01 00:00:07.0150</td>\n",
       "      <td>2020-11-01 00:08:48.3010</td>\n",
       "      <td>3467</td>\n",
       "      <td>W Broadway &amp; Spring St</td>\n",
       "      <td>40.72494672359416</td>\n",
       "      <td>-74.00165855884552</td>\n",
       "      <td>350</td>\n",
       "      <td>Clinton St &amp; Grand St</td>\n",
       "      <td>40.71559509</td>\n",
       "      <td>-73.9870295</td>\n",
       "      <td>40405</td>\n",
       "      <td>Subscriber</td>\n",
       "      <td>1989</td>\n",
       "      <td>1</td>\n",
       "      <td>2020-11-01 00:08:48.301</td>\n",
       "      <td>11/01/2020</td>\n",
       "      <td>00:08:48</td>\n",
       "    </tr>\n",
       "    <tr>\n",
       "      <th>1</th>\n",
       "      <td>492</td>\n",
       "      <td>2020-11-01 00:00:10.8080</td>\n",
       "      <td>2020-11-01 00:08:23.3170</td>\n",
       "      <td>3557</td>\n",
       "      <td>40 Ave &amp; 9 St</td>\n",
       "      <td>40.75742</td>\n",
       "      <td>-73.945133</td>\n",
       "      <td>3557</td>\n",
       "      <td>40 Ave &amp; 9 St</td>\n",
       "      <td>40.75742</td>\n",
       "      <td>-73.945133</td>\n",
       "      <td>46504</td>\n",
       "      <td>Subscriber</td>\n",
       "      <td>1970</td>\n",
       "      <td>2</td>\n",
       "      <td>2020-11-01 00:08:23.317</td>\n",
       "      <td>11/01/2020</td>\n",
       "      <td>00:08:23</td>\n",
       "    </tr>\n",
       "    <tr>\n",
       "      <th>2</th>\n",
       "      <td>1979</td>\n",
       "      <td>2020-11-01 00:00:14.7040</td>\n",
       "      <td>2020-11-01 00:33:14.1640</td>\n",
       "      <td>3085</td>\n",
       "      <td>Roebling St &amp; N 4 St</td>\n",
       "      <td>40.71469</td>\n",
       "      <td>-73.95739</td>\n",
       "      <td>3854</td>\n",
       "      <td>Morgan Ave &amp; Maspeth Ave</td>\n",
       "      <td>40.716657</td>\n",
       "      <td>-73.93637</td>\n",
       "      <td>37452</td>\n",
       "      <td>Subscriber</td>\n",
       "      <td>1989</td>\n",
       "      <td>2</td>\n",
       "      <td>2020-11-01 00:33:14.164</td>\n",
       "      <td>11/01/2020</td>\n",
       "      <td>00:33:14</td>\n",
       "    </tr>\n",
       "    <tr>\n",
       "      <th>3</th>\n",
       "      <td>2382</td>\n",
       "      <td>2020-11-01 00:00:14.7070</td>\n",
       "      <td>2020-11-01 00:39:57.0030</td>\n",
       "      <td>3783</td>\n",
       "      <td>Cliff St &amp; Fulton St</td>\n",
       "      <td>40.70838</td>\n",
       "      <td>-74.00495</td>\n",
       "      <td>3167</td>\n",
       "      <td>Amsterdam Ave &amp; W 73 St</td>\n",
       "      <td>40.77966809007312</td>\n",
       "      <td>-73.98093044757842</td>\n",
       "      <td>40417</td>\n",
       "      <td>Subscriber</td>\n",
       "      <td>1981</td>\n",
       "      <td>1</td>\n",
       "      <td>2020-11-01 00:39:57.003</td>\n",
       "      <td>11/01/2020</td>\n",
       "      <td>00:39:57</td>\n",
       "    </tr>\n",
       "    <tr>\n",
       "      <th>4</th>\n",
       "      <td>166</td>\n",
       "      <td>2020-11-01 00:00:15.9690</td>\n",
       "      <td>2020-11-01 00:03:02.8980</td>\n",
       "      <td>422</td>\n",
       "      <td>W 59 St &amp; 10 Ave</td>\n",
       "      <td>40.770513</td>\n",
       "      <td>-73.988038</td>\n",
       "      <td>3175</td>\n",
       "      <td>W 70 St &amp; Amsterdam Ave</td>\n",
       "      <td>40.77748046</td>\n",
       "      <td>-73.98288594</td>\n",
       "      <td>35776</td>\n",
       "      <td>Subscriber</td>\n",
       "      <td>1990</td>\n",
       "      <td>1</td>\n",
       "      <td>2020-11-01 00:03:02.898</td>\n",
       "      <td>11/01/2020</td>\n",
       "      <td>00:03:02</td>\n",
       "    </tr>\n",
       "  </tbody>\n",
       "</table>\n",
       "</div>"
      ],
      "text/plain": [
       "  tripduration                 starttime                  stoptime  \\\n",
       "0          521  2020-11-01 00:00:07.0150  2020-11-01 00:08:48.3010   \n",
       "1          492  2020-11-01 00:00:10.8080  2020-11-01 00:08:23.3170   \n",
       "2         1979  2020-11-01 00:00:14.7040  2020-11-01 00:33:14.1640   \n",
       "3         2382  2020-11-01 00:00:14.7070  2020-11-01 00:39:57.0030   \n",
       "4          166  2020-11-01 00:00:15.9690  2020-11-01 00:03:02.8980   \n",
       "\n",
       "  start station id      start station name start station latitude  \\\n",
       "0             3467  W Broadway & Spring St      40.72494672359416   \n",
       "1             3557           40 Ave & 9 St               40.75742   \n",
       "2             3085    Roebling St & N 4 St               40.71469   \n",
       "3             3783    Cliff St & Fulton St               40.70838   \n",
       "4              422        W 59 St & 10 Ave              40.770513   \n",
       "\n",
       "  start station longitude end station id          end station name  \\\n",
       "0      -74.00165855884552            350     Clinton St & Grand St   \n",
       "1              -73.945133           3557             40 Ave & 9 St   \n",
       "2               -73.95739           3854  Morgan Ave & Maspeth Ave   \n",
       "3               -74.00495           3167   Amsterdam Ave & W 73 St   \n",
       "4              -73.988038           3175   W 70 St & Amsterdam Ave   \n",
       "\n",
       "  end station latitude end station longitude bikeid    usertype birth year  \\\n",
       "0          40.71559509           -73.9870295  40405  Subscriber       1989   \n",
       "1             40.75742            -73.945133  46504  Subscriber       1970   \n",
       "2            40.716657             -73.93637  37452  Subscriber       1989   \n",
       "3    40.77966809007312    -73.98093044757842  40417  Subscriber       1981   \n",
       "4          40.77748046          -73.98288594  35776  Subscriber       1990   \n",
       "\n",
       "  gender             stoptime_ts stoptime_date stoptime_time  \n",
       "0      1 2020-11-01 00:08:48.301    11/01/2020      00:08:48  \n",
       "1      2 2020-11-01 00:08:23.317    11/01/2020      00:08:23  \n",
       "2      2 2020-11-01 00:33:14.164    11/01/2020      00:33:14  \n",
       "3      1 2020-11-01 00:39:57.003    11/01/2020      00:39:57  \n",
       "4      1 2020-11-01 00:03:02.898    11/01/2020      00:03:02  "
      ]
     },
     "execution_count": 119,
     "metadata": {},
     "output_type": "execute_result"
    }
   ],
   "source": [
    "df.limit(5).toPandas()"
   ]
  },
  {
   "cell_type": "code",
   "execution_count": null,
   "metadata": {},
   "outputs": [],
   "source": [
    "# long way\n",
    "# https://stackoverflow.com/questions/48164206/pyspark-adding-a-column-from-a-list-of-values-using-a-udf"
   ]
  },
  {
   "cell_type": "code",
   "execution_count": null,
   "metadata": {},
   "outputs": [],
   "source": []
  }
 ],
 "metadata": {
  "kernelspec": {
   "display_name": "Python 3",
   "language": "python",
   "name": "python3"
  },
  "language_info": {
   "codemirror_mode": {
    "name": "ipython",
    "version": 3
   },
   "file_extension": ".py",
   "mimetype": "text/x-python",
   "name": "python",
   "nbconvert_exporter": "python",
   "pygments_lexer": "ipython3",
   "version": "3.8.6"
  }
 },
 "nbformat": 4,
 "nbformat_minor": 4
}
