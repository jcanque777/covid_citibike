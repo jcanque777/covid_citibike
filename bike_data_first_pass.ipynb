{
 "cells": [
  {
   "cell_type": "code",
   "execution_count": 1,
   "metadata": {},
   "outputs": [],
   "source": [
    "import configparser\n",
    "from datetime import datetime\n",
    "import os\n",
    "from pyspark.sql import SparkSession\n",
    "from pyspark.sql import functions as F\n",
    "from pyspark.sql.functions import udf, col\n",
    "from pyspark.sql.functions import year, month, dayofmonth, hour, weekofyear, date_format\n",
    "from pyspark.sql.types import StructType, StructField, DoubleType, StringType, IntegerType, DateType, TimestampType, LongType\n",
    "from pyspark.sql import Row\n",
    "from pyspark.sql.types import *"
   ]
  },
  {
   "cell_type": "code",
   "execution_count": 7,
   "metadata": {},
   "outputs": [],
   "source": [
    "from pyspark.sql.functions import to_timestamp"
   ]
  },
  {
   "cell_type": "code",
   "execution_count": 2,
   "metadata": {},
   "outputs": [],
   "source": [
    "spark = SparkSession \\\n",
    "        .builder \\\n",
    "        .config(\"spark.jars.packages\", \"org.apache.hadoop:hadoop-aws:2.7.0\") \\\n",
    "        .getOrCreate()"
   ]
  },
  {
   "cell_type": "code",
   "execution_count": 3,
   "metadata": {},
   "outputs": [],
   "source": [
    "spark.conf.set(\"mapreduce.fileoutputcommitter.algorithm.version\", \"2\")"
   ]
  },
  {
   "cell_type": "code",
   "execution_count": 4,
   "metadata": {},
   "outputs": [
    {
     "data": {
      "text/plain": [
       "'3.0.1'"
      ]
     },
     "execution_count": 4,
     "metadata": {},
     "output_type": "execute_result"
    }
   ],
   "source": [
    "spark.version"
   ]
  },
  {
   "cell_type": "code",
   "execution_count": 5,
   "metadata": {},
   "outputs": [],
   "source": [
    "df = spark.read.csv(\"cv19_data/202011-citibike-tripdata.csv\",header=True)"
   ]
  },
  {
   "cell_type": "markdown",
   "metadata": {},
   "source": [
    "# Get Date From Time Stamp Column"
   ]
  },
  {
   "cell_type": "code",
   "execution_count": 12,
   "metadata": {},
   "outputs": [
    {
     "data": {
      "text/plain": [
       "[Row(datetime=datetime.datetime(2020, 11, 1, 0, 8, 48, 301000)),\n",
       " Row(datetime=datetime.datetime(2020, 11, 1, 0, 8, 23, 317000)),\n",
       " Row(datetime=datetime.datetime(2020, 11, 1, 0, 33, 14, 164000)),\n",
       " Row(datetime=datetime.datetime(2020, 11, 1, 0, 39, 57, 3000)),\n",
       " Row(datetime=datetime.datetime(2020, 11, 1, 0, 3, 2, 898000))]"
      ]
     },
     "execution_count": 12,
     "metadata": {},
     "output_type": "execute_result"
    }
   ],
   "source": [
    "# test turning string into timestamp\n",
    "df.limit(5).select(df.stoptime.cast(TimestampType()).alias('datetime')).collect()"
   ]
  },
  {
   "cell_type": "markdown",
   "metadata": {},
   "source": [
    "## Get Stop Time"
   ]
  },
  {
   "cell_type": "code",
   "execution_count": 10,
   "metadata": {},
   "outputs": [],
   "source": [
    "# turn stoptime column to timestamp from string\n",
    "df = df.withColumn(\"stoptime_ts\",to_timestamp(col(\"stoptime\")))"
   ]
  },
  {
   "cell_type": "markdown",
   "metadata": {},
   "source": [
    "## Get Start Time"
   ]
  },
  {
   "cell_type": "code",
   "execution_count": 14,
   "metadata": {},
   "outputs": [],
   "source": [
    "# turn stoptime column to timestamp from string\n",
    "df = df.withColumn(\"starttime_ts\",to_timestamp(col(\"starttime\")))"
   ]
  },
  {
   "cell_type": "markdown",
   "metadata": {},
   "source": [
    "# Save To Correct Column Order"
   ]
  },
  {
   "cell_type": "code",
   "execution_count": 16,
   "metadata": {},
   "outputs": [
    {
     "data": {
      "text/plain": [
       "['tripduration',\n",
       " 'starttime',\n",
       " 'stoptime',\n",
       " 'start station id',\n",
       " 'start station name',\n",
       " 'start station latitude',\n",
       " 'start station longitude',\n",
       " 'end station id',\n",
       " 'end station name',\n",
       " 'end station latitude',\n",
       " 'end station longitude',\n",
       " 'bikeid',\n",
       " 'usertype',\n",
       " 'birth year',\n",
       " 'gender',\n",
       " 'stoptime_ts',\n",
       " 'starttime_ts']"
      ]
     },
     "execution_count": 16,
     "metadata": {},
     "output_type": "execute_result"
    }
   ],
   "source": [
    "df.columns"
   ]
  },
  {
   "cell_type": "code",
   "execution_count": 17,
   "metadata": {},
   "outputs": [],
   "source": [
    "# select columns to drop\n",
    "columns_to_drop = ['tripduration',\n",
    " 'starttime',\n",
    " 'stoptime',\n",
    " 'start station id',\n",
    " 'start station latitude',\n",
    " 'start station longitude',\n",
    " 'end station id',\n",
    " 'end station latitude',\n",
    " 'end station longitude']"
   ]
  },
  {
   "cell_type": "code",
   "execution_count": 20,
   "metadata": {},
   "outputs": [],
   "source": [
    "test_df = df.drop(*columns_to_drop)"
   ]
  },
  {
   "cell_type": "code",
   "execution_count": 22,
   "metadata": {},
   "outputs": [
    {
     "data": {
      "text/html": [
       "<div>\n",
       "<style scoped>\n",
       "    .dataframe tbody tr th:only-of-type {\n",
       "        vertical-align: middle;\n",
       "    }\n",
       "\n",
       "    .dataframe tbody tr th {\n",
       "        vertical-align: top;\n",
       "    }\n",
       "\n",
       "    .dataframe thead th {\n",
       "        text-align: right;\n",
       "    }\n",
       "</style>\n",
       "<table border=\"1\" class=\"dataframe\">\n",
       "  <thead>\n",
       "    <tr style=\"text-align: right;\">\n",
       "      <th></th>\n",
       "      <th>start station name</th>\n",
       "      <th>end station name</th>\n",
       "      <th>bikeid</th>\n",
       "      <th>usertype</th>\n",
       "      <th>birth year</th>\n",
       "      <th>gender</th>\n",
       "      <th>stoptime_ts</th>\n",
       "      <th>starttime_ts</th>\n",
       "    </tr>\n",
       "  </thead>\n",
       "  <tbody>\n",
       "    <tr>\n",
       "      <th>0</th>\n",
       "      <td>W Broadway &amp; Spring St</td>\n",
       "      <td>Clinton St &amp; Grand St</td>\n",
       "      <td>40405</td>\n",
       "      <td>Subscriber</td>\n",
       "      <td>1989</td>\n",
       "      <td>1</td>\n",
       "      <td>2020-11-01 00:08:48.301</td>\n",
       "      <td>2020-11-01 00:00:07.015</td>\n",
       "    </tr>\n",
       "    <tr>\n",
       "      <th>1</th>\n",
       "      <td>40 Ave &amp; 9 St</td>\n",
       "      <td>40 Ave &amp; 9 St</td>\n",
       "      <td>46504</td>\n",
       "      <td>Subscriber</td>\n",
       "      <td>1970</td>\n",
       "      <td>2</td>\n",
       "      <td>2020-11-01 00:08:23.317</td>\n",
       "      <td>2020-11-01 00:00:10.808</td>\n",
       "    </tr>\n",
       "    <tr>\n",
       "      <th>2</th>\n",
       "      <td>Roebling St &amp; N 4 St</td>\n",
       "      <td>Morgan Ave &amp; Maspeth Ave</td>\n",
       "      <td>37452</td>\n",
       "      <td>Subscriber</td>\n",
       "      <td>1989</td>\n",
       "      <td>2</td>\n",
       "      <td>2020-11-01 00:33:14.164</td>\n",
       "      <td>2020-11-01 00:00:14.704</td>\n",
       "    </tr>\n",
       "    <tr>\n",
       "      <th>3</th>\n",
       "      <td>Cliff St &amp; Fulton St</td>\n",
       "      <td>Amsterdam Ave &amp; W 73 St</td>\n",
       "      <td>40417</td>\n",
       "      <td>Subscriber</td>\n",
       "      <td>1981</td>\n",
       "      <td>1</td>\n",
       "      <td>2020-11-01 00:39:57.003</td>\n",
       "      <td>2020-11-01 00:00:14.707</td>\n",
       "    </tr>\n",
       "    <tr>\n",
       "      <th>4</th>\n",
       "      <td>W 59 St &amp; 10 Ave</td>\n",
       "      <td>W 70 St &amp; Amsterdam Ave</td>\n",
       "      <td>35776</td>\n",
       "      <td>Subscriber</td>\n",
       "      <td>1990</td>\n",
       "      <td>1</td>\n",
       "      <td>2020-11-01 00:03:02.898</td>\n",
       "      <td>2020-11-01 00:00:15.969</td>\n",
       "    </tr>\n",
       "  </tbody>\n",
       "</table>\n",
       "</div>"
      ],
      "text/plain": [
       "       start station name          end station name bikeid    usertype  \\\n",
       "0  W Broadway & Spring St     Clinton St & Grand St  40405  Subscriber   \n",
       "1           40 Ave & 9 St             40 Ave & 9 St  46504  Subscriber   \n",
       "2    Roebling St & N 4 St  Morgan Ave & Maspeth Ave  37452  Subscriber   \n",
       "3    Cliff St & Fulton St   Amsterdam Ave & W 73 St  40417  Subscriber   \n",
       "4        W 59 St & 10 Ave   W 70 St & Amsterdam Ave  35776  Subscriber   \n",
       "\n",
       "  birth year gender             stoptime_ts            starttime_ts  \n",
       "0       1989      1 2020-11-01 00:08:48.301 2020-11-01 00:00:07.015  \n",
       "1       1970      2 2020-11-01 00:08:23.317 2020-11-01 00:00:10.808  \n",
       "2       1989      2 2020-11-01 00:33:14.164 2020-11-01 00:00:14.704  \n",
       "3       1981      1 2020-11-01 00:39:57.003 2020-11-01 00:00:14.707  \n",
       "4       1990      1 2020-11-01 00:03:02.898 2020-11-01 00:00:15.969  "
      ]
     },
     "execution_count": 22,
     "metadata": {},
     "output_type": "execute_result"
    }
   ],
   "source": [
    "test_df.limit(5).toPandas()"
   ]
  },
  {
   "cell_type": "code",
   "execution_count": null,
   "metadata": {},
   "outputs": [],
   "source": []
  },
  {
   "cell_type": "code",
   "execution_count": null,
   "metadata": {},
   "outputs": [],
   "source": []
  },
  {
   "cell_type": "code",
   "execution_count": null,
   "metadata": {},
   "outputs": [],
   "source": []
  },
  {
   "cell_type": "markdown",
   "metadata": {},
   "source": [
    "# Test"
   ]
  },
  {
   "cell_type": "code",
   "execution_count": 15,
   "metadata": {},
   "outputs": [
    {
     "data": {
      "text/html": [
       "<div>\n",
       "<style scoped>\n",
       "    .dataframe tbody tr th:only-of-type {\n",
       "        vertical-align: middle;\n",
       "    }\n",
       "\n",
       "    .dataframe tbody tr th {\n",
       "        vertical-align: top;\n",
       "    }\n",
       "\n",
       "    .dataframe thead th {\n",
       "        text-align: right;\n",
       "    }\n",
       "</style>\n",
       "<table border=\"1\" class=\"dataframe\">\n",
       "  <thead>\n",
       "    <tr style=\"text-align: right;\">\n",
       "      <th></th>\n",
       "      <th>tripduration</th>\n",
       "      <th>starttime</th>\n",
       "      <th>stoptime</th>\n",
       "      <th>start station id</th>\n",
       "      <th>start station name</th>\n",
       "      <th>start station latitude</th>\n",
       "      <th>start station longitude</th>\n",
       "      <th>end station id</th>\n",
       "      <th>end station name</th>\n",
       "      <th>end station latitude</th>\n",
       "      <th>end station longitude</th>\n",
       "      <th>bikeid</th>\n",
       "      <th>usertype</th>\n",
       "      <th>birth year</th>\n",
       "      <th>gender</th>\n",
       "      <th>stoptime_ts</th>\n",
       "      <th>starttime_ts</th>\n",
       "    </tr>\n",
       "  </thead>\n",
       "  <tbody>\n",
       "    <tr>\n",
       "      <th>0</th>\n",
       "      <td>521</td>\n",
       "      <td>2020-11-01 00:00:07.0150</td>\n",
       "      <td>2020-11-01 00:08:48.3010</td>\n",
       "      <td>3467</td>\n",
       "      <td>W Broadway &amp; Spring St</td>\n",
       "      <td>40.72494672359416</td>\n",
       "      <td>-74.00165855884552</td>\n",
       "      <td>350</td>\n",
       "      <td>Clinton St &amp; Grand St</td>\n",
       "      <td>40.71559509</td>\n",
       "      <td>-73.9870295</td>\n",
       "      <td>40405</td>\n",
       "      <td>Subscriber</td>\n",
       "      <td>1989</td>\n",
       "      <td>1</td>\n",
       "      <td>2020-11-01 00:08:48.301</td>\n",
       "      <td>2020-11-01 00:00:07.015</td>\n",
       "    </tr>\n",
       "    <tr>\n",
       "      <th>1</th>\n",
       "      <td>492</td>\n",
       "      <td>2020-11-01 00:00:10.8080</td>\n",
       "      <td>2020-11-01 00:08:23.3170</td>\n",
       "      <td>3557</td>\n",
       "      <td>40 Ave &amp; 9 St</td>\n",
       "      <td>40.75742</td>\n",
       "      <td>-73.945133</td>\n",
       "      <td>3557</td>\n",
       "      <td>40 Ave &amp; 9 St</td>\n",
       "      <td>40.75742</td>\n",
       "      <td>-73.945133</td>\n",
       "      <td>46504</td>\n",
       "      <td>Subscriber</td>\n",
       "      <td>1970</td>\n",
       "      <td>2</td>\n",
       "      <td>2020-11-01 00:08:23.317</td>\n",
       "      <td>2020-11-01 00:00:10.808</td>\n",
       "    </tr>\n",
       "    <tr>\n",
       "      <th>2</th>\n",
       "      <td>1979</td>\n",
       "      <td>2020-11-01 00:00:14.7040</td>\n",
       "      <td>2020-11-01 00:33:14.1640</td>\n",
       "      <td>3085</td>\n",
       "      <td>Roebling St &amp; N 4 St</td>\n",
       "      <td>40.71469</td>\n",
       "      <td>-73.95739</td>\n",
       "      <td>3854</td>\n",
       "      <td>Morgan Ave &amp; Maspeth Ave</td>\n",
       "      <td>40.716657</td>\n",
       "      <td>-73.93637</td>\n",
       "      <td>37452</td>\n",
       "      <td>Subscriber</td>\n",
       "      <td>1989</td>\n",
       "      <td>2</td>\n",
       "      <td>2020-11-01 00:33:14.164</td>\n",
       "      <td>2020-11-01 00:00:14.704</td>\n",
       "    </tr>\n",
       "    <tr>\n",
       "      <th>3</th>\n",
       "      <td>2382</td>\n",
       "      <td>2020-11-01 00:00:14.7070</td>\n",
       "      <td>2020-11-01 00:39:57.0030</td>\n",
       "      <td>3783</td>\n",
       "      <td>Cliff St &amp; Fulton St</td>\n",
       "      <td>40.70838</td>\n",
       "      <td>-74.00495</td>\n",
       "      <td>3167</td>\n",
       "      <td>Amsterdam Ave &amp; W 73 St</td>\n",
       "      <td>40.77966809007312</td>\n",
       "      <td>-73.98093044757842</td>\n",
       "      <td>40417</td>\n",
       "      <td>Subscriber</td>\n",
       "      <td>1981</td>\n",
       "      <td>1</td>\n",
       "      <td>2020-11-01 00:39:57.003</td>\n",
       "      <td>2020-11-01 00:00:14.707</td>\n",
       "    </tr>\n",
       "    <tr>\n",
       "      <th>4</th>\n",
       "      <td>166</td>\n",
       "      <td>2020-11-01 00:00:15.9690</td>\n",
       "      <td>2020-11-01 00:03:02.8980</td>\n",
       "      <td>422</td>\n",
       "      <td>W 59 St &amp; 10 Ave</td>\n",
       "      <td>40.770513</td>\n",
       "      <td>-73.988038</td>\n",
       "      <td>3175</td>\n",
       "      <td>W 70 St &amp; Amsterdam Ave</td>\n",
       "      <td>40.77748046</td>\n",
       "      <td>-73.98288594</td>\n",
       "      <td>35776</td>\n",
       "      <td>Subscriber</td>\n",
       "      <td>1990</td>\n",
       "      <td>1</td>\n",
       "      <td>2020-11-01 00:03:02.898</td>\n",
       "      <td>2020-11-01 00:00:15.969</td>\n",
       "    </tr>\n",
       "  </tbody>\n",
       "</table>\n",
       "</div>"
      ],
      "text/plain": [
       "  tripduration                 starttime                  stoptime  \\\n",
       "0          521  2020-11-01 00:00:07.0150  2020-11-01 00:08:48.3010   \n",
       "1          492  2020-11-01 00:00:10.8080  2020-11-01 00:08:23.3170   \n",
       "2         1979  2020-11-01 00:00:14.7040  2020-11-01 00:33:14.1640   \n",
       "3         2382  2020-11-01 00:00:14.7070  2020-11-01 00:39:57.0030   \n",
       "4          166  2020-11-01 00:00:15.9690  2020-11-01 00:03:02.8980   \n",
       "\n",
       "  start station id      start station name start station latitude  \\\n",
       "0             3467  W Broadway & Spring St      40.72494672359416   \n",
       "1             3557           40 Ave & 9 St               40.75742   \n",
       "2             3085    Roebling St & N 4 St               40.71469   \n",
       "3             3783    Cliff St & Fulton St               40.70838   \n",
       "4              422        W 59 St & 10 Ave              40.770513   \n",
       "\n",
       "  start station longitude end station id          end station name  \\\n",
       "0      -74.00165855884552            350     Clinton St & Grand St   \n",
       "1              -73.945133           3557             40 Ave & 9 St   \n",
       "2               -73.95739           3854  Morgan Ave & Maspeth Ave   \n",
       "3               -74.00495           3167   Amsterdam Ave & W 73 St   \n",
       "4              -73.988038           3175   W 70 St & Amsterdam Ave   \n",
       "\n",
       "  end station latitude end station longitude bikeid    usertype birth year  \\\n",
       "0          40.71559509           -73.9870295  40405  Subscriber       1989   \n",
       "1             40.75742            -73.945133  46504  Subscriber       1970   \n",
       "2            40.716657             -73.93637  37452  Subscriber       1989   \n",
       "3    40.77966809007312    -73.98093044757842  40417  Subscriber       1981   \n",
       "4          40.77748046          -73.98288594  35776  Subscriber       1990   \n",
       "\n",
       "  gender             stoptime_ts            starttime_ts  \n",
       "0      1 2020-11-01 00:08:48.301 2020-11-01 00:00:07.015  \n",
       "1      2 2020-11-01 00:08:23.317 2020-11-01 00:00:10.808  \n",
       "2      2 2020-11-01 00:33:14.164 2020-11-01 00:00:14.704  \n",
       "3      1 2020-11-01 00:39:57.003 2020-11-01 00:00:14.707  \n",
       "4      1 2020-11-01 00:03:02.898 2020-11-01 00:00:15.969  "
      ]
     },
     "execution_count": 15,
     "metadata": {},
     "output_type": "execute_result"
    }
   ],
   "source": [
    "df.limit(5).toPandas()"
   ]
  },
  {
   "cell_type": "code",
   "execution_count": null,
   "metadata": {},
   "outputs": [],
   "source": []
  },
  {
   "cell_type": "code",
   "execution_count": null,
   "metadata": {},
   "outputs": [],
   "source": []
  },
  {
   "cell_type": "code",
   "execution_count": null,
   "metadata": {},
   "outputs": [],
   "source": []
  },
  {
   "cell_type": "code",
   "execution_count": null,
   "metadata": {},
   "outputs": [],
   "source": []
  },
  {
   "cell_type": "code",
   "execution_count": null,
   "metadata": {},
   "outputs": [],
   "source": []
  },
  {
   "cell_type": "code",
   "execution_count": null,
   "metadata": {},
   "outputs": [],
   "source": []
  },
  {
   "cell_type": "code",
   "execution_count": null,
   "metadata": {},
   "outputs": [],
   "source": []
  }
 ],
 "metadata": {
  "kernelspec": {
   "display_name": "Python 3",
   "language": "python",
   "name": "python3"
  },
  "language_info": {
   "codemirror_mode": {
    "name": "ipython",
    "version": 3
   },
   "file_extension": ".py",
   "mimetype": "text/x-python",
   "name": "python",
   "nbconvert_exporter": "python",
   "pygments_lexer": "ipython3",
   "version": "3.8.6"
  }
 },
 "nbformat": 4,
 "nbformat_minor": 4
}
