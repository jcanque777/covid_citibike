{
 "cells": [
  {
   "cell_type": "code",
   "execution_count": 1,
   "metadata": {},
   "outputs": [],
   "source": [
    "import configparser\n",
    "from datetime import datetime\n",
    "import os\n",
    "from pyspark.sql import SparkSession\n",
    "from pyspark.sql import functions as F\n",
    "from pyspark.sql.functions import udf, col\n",
    "from pyspark.sql.functions import year, month, dayofmonth, hour, weekofyear, date_format\n",
    "from pyspark.sql.types import StructType, StructField, DoubleType, StringType, IntegerType, DateType, TimestampType, LongType\n",
    "from pyspark.sql import Row\n",
    "from pyspark.sql.types import *"
   ]
  },
  {
   "cell_type": "code",
   "execution_count": 7,
   "metadata": {},
   "outputs": [],
   "source": [
    "from pyspark.sql.functions import to_timestamp"
   ]
  },
  {
   "cell_type": "code",
   "execution_count": 28,
   "metadata": {},
   "outputs": [],
   "source": [
    "from pyspark.sql.functions import lit"
   ]
  },
  {
   "cell_type": "code",
   "execution_count": 2,
   "metadata": {},
   "outputs": [],
   "source": [
    "spark = SparkSession \\\n",
    "        .builder \\\n",
    "        .config(\"spark.jars.packages\", \"org.apache.hadoop:hadoop-aws:2.7.0\") \\\n",
    "        .getOrCreate()"
   ]
  },
  {
   "cell_type": "code",
   "execution_count": 3,
   "metadata": {},
   "outputs": [],
   "source": [
    "spark.conf.set(\"mapreduce.fileoutputcommitter.algorithm.version\", \"2\")"
   ]
  },
  {
   "cell_type": "code",
   "execution_count": 4,
   "metadata": {},
   "outputs": [
    {
     "data": {
      "text/plain": [
       "'3.0.1'"
      ]
     },
     "execution_count": 4,
     "metadata": {},
     "output_type": "execute_result"
    }
   ],
   "source": [
    "spark.version"
   ]
  },
  {
   "cell_type": "code",
   "execution_count": 5,
   "metadata": {},
   "outputs": [],
   "source": [
    "df = spark.read.csv(\"cv19_data/202011-citibike-tripdata.csv\",header=True)"
   ]
  },
  {
   "cell_type": "markdown",
   "metadata": {},
   "source": [
    "# Get Date From Time Stamp Column"
   ]
  },
  {
   "cell_type": "code",
   "execution_count": 12,
   "metadata": {},
   "outputs": [
    {
     "data": {
      "text/plain": [
       "[Row(datetime=datetime.datetime(2020, 11, 1, 0, 8, 48, 301000)),\n",
       " Row(datetime=datetime.datetime(2020, 11, 1, 0, 8, 23, 317000)),\n",
       " Row(datetime=datetime.datetime(2020, 11, 1, 0, 33, 14, 164000)),\n",
       " Row(datetime=datetime.datetime(2020, 11, 1, 0, 39, 57, 3000)),\n",
       " Row(datetime=datetime.datetime(2020, 11, 1, 0, 3, 2, 898000))]"
      ]
     },
     "execution_count": 12,
     "metadata": {},
     "output_type": "execute_result"
    }
   ],
   "source": [
    "# test turning string into timestamp\n",
    "df.limit(5).select(df.stoptime.cast(TimestampType()).alias('datetime')).collect()"
   ]
  },
  {
   "cell_type": "markdown",
   "metadata": {},
   "source": [
    "## Get Stop Time"
   ]
  },
  {
   "cell_type": "code",
   "execution_count": 10,
   "metadata": {},
   "outputs": [],
   "source": [
    "# turn stoptime column to timestamp from string\n",
    "df = df.withColumn(\"stoptime_ts\",to_timestamp(col(\"stoptime\")))"
   ]
  },
  {
   "cell_type": "markdown",
   "metadata": {},
   "source": [
    "## Get Start Time"
   ]
  },
  {
   "cell_type": "code",
   "execution_count": 14,
   "metadata": {},
   "outputs": [],
   "source": [
    "# turn stoptime column to timestamp from string\n",
    "df = df.withColumn(\"starttime_ts\",to_timestamp(col(\"starttime\")))"
   ]
  },
  {
   "cell_type": "markdown",
   "metadata": {},
   "source": [
    "# Save To Correct Column Order"
   ]
  },
  {
   "cell_type": "code",
   "execution_count": 16,
   "metadata": {},
   "outputs": [
    {
     "data": {
      "text/plain": [
       "['tripduration',\n",
       " 'starttime',\n",
       " 'stoptime',\n",
       " 'start station id',\n",
       " 'start station name',\n",
       " 'start station latitude',\n",
       " 'start station longitude',\n",
       " 'end station id',\n",
       " 'end station name',\n",
       " 'end station latitude',\n",
       " 'end station longitude',\n",
       " 'bikeid',\n",
       " 'usertype',\n",
       " 'birth year',\n",
       " 'gender',\n",
       " 'stoptime_ts',\n",
       " 'starttime_ts']"
      ]
     },
     "execution_count": 16,
     "metadata": {},
     "output_type": "execute_result"
    }
   ],
   "source": [
    "df.columns"
   ]
  },
  {
   "cell_type": "code",
   "execution_count": 17,
   "metadata": {},
   "outputs": [],
   "source": [
    "# select columns to drop\n",
    "columns_to_drop = ['tripduration',\n",
    " 'starttime',\n",
    " 'stoptime',\n",
    " 'start station id',\n",
    " 'start station latitude',\n",
    " 'start station longitude',\n",
    " 'end station id',\n",
    " 'end station latitude',\n",
    " 'end station longitude']"
   ]
  },
  {
   "cell_type": "code",
   "execution_count": 23,
   "metadata": {},
   "outputs": [],
   "source": [
    "df = df.drop(*columns_to_drop)"
   ]
  },
  {
   "cell_type": "code",
   "execution_count": 26,
   "metadata": {},
   "outputs": [
    {
     "data": {
      "text/plain": [
       "DataFrame[start station name: string, end station name: string, bikeid: string, usertype: string, birth year: string, gender: string, stoptime_ts: timestamp, starttime_ts: timestamp]"
      ]
     },
     "execution_count": 26,
     "metadata": {},
     "output_type": "execute_result"
    }
   ],
   "source": [
    "df"
   ]
  },
  {
   "cell_type": "markdown",
   "metadata": {},
   "source": [
    "# Turn Stop Time To date"
   ]
  },
  {
   "cell_type": "code",
   "execution_count": 30,
   "metadata": {},
   "outputs": [],
   "source": [
    "# # correct code\n",
    "# df.select(date_format('stoptime_ts', 'MM/dd/yyy').alias('date')).collect()"
   ]
  },
  {
   "cell_type": "code",
   "execution_count": 31,
   "metadata": {},
   "outputs": [],
   "source": [
    "# create date column\n",
    "df = df.withColumn(\"stoptime_date\",date_format('stoptime_ts','MM/dd/yyy'))"
   ]
  },
  {
   "cell_type": "markdown",
   "metadata": {},
   "source": [
    "## Turn Stop Time to Time"
   ]
  },
  {
   "cell_type": "code",
   "execution_count": 33,
   "metadata": {},
   "outputs": [],
   "source": [
    "# create time column\n",
    "df = df.withColumn('stoptime_time', date_format('stoptime_ts', 'HH:mm:ss'))"
   ]
  },
  {
   "cell_type": "markdown",
   "metadata": {},
   "source": [
    "# Group By Date, Hour, Station From, Station End, Bikeid Count"
   ]
  },
  {
   "cell_type": "markdown",
   "metadata": {},
   "source": [
    "### Create Week Column"
   ]
  },
  {
   "cell_type": "code",
   "execution_count": 35,
   "metadata": {
    "scrolled": true
   },
   "outputs": [
    {
     "data": {
      "text/plain": [
       "[('start station name', 'string'),\n",
       " ('end station name', 'string'),\n",
       " ('bikeid', 'string'),\n",
       " ('usertype', 'string'),\n",
       " ('birth year', 'string'),\n",
       " ('gender', 'string'),\n",
       " ('stoptime_ts', 'timestamp'),\n",
       " ('starttime_ts', 'timestamp'),\n",
       " ('stoptime_date', 'string'),\n",
       " ('stoptime_time', 'string')]"
      ]
     },
     "execution_count": 35,
     "metadata": {},
     "output_type": "execute_result"
    }
   ],
   "source": [
    "df.dtypes"
   ]
  },
  {
   "cell_type": "code",
   "execution_count": 47,
   "metadata": {},
   "outputs": [],
   "source": [
    "from pyspark.sql.functions import hour, count, dayofyear"
   ]
  },
  {
   "cell_type": "code",
   "execution_count": 60,
   "metadata": {},
   "outputs": [],
   "source": [
    "final_df = (df.groupBy(\"stoptime_date\", hour(\"stoptime_ts\").alias(\"hour\"), \"start station name\", \"end station name\")\n",
    "    .agg(count(\"bikeid\").alias(\"no_of_trips\")))"
   ]
  },
  {
   "cell_type": "code",
   "execution_count": 61,
   "metadata": {},
   "outputs": [
    {
     "name": "stdout",
     "output_type": "stream",
     "text": [
      "1560703 10\n"
     ]
    }
   ],
   "source": [
    "print(final_df.count(), len(df.columns))"
   ]
  },
  {
   "cell_type": "code",
   "execution_count": null,
   "metadata": {},
   "outputs": [],
   "source": []
  },
  {
   "cell_type": "code",
   "execution_count": 49,
   "metadata": {},
   "outputs": [
    {
     "name": "stdout",
     "output_type": "stream",
     "text": [
      "+--------------------+----+----+-----+\n",
      "|    end station name|date|hour|count|\n",
      "+--------------------+----+----+-----+\n",
      "|Bayard St & Baxte...| 306|   0|    4|\n",
      "|Huron St & Frankl...| 306|   0|    1|\n",
      "|   E 6 St & Avenue B| 306|   1|    1|\n",
      "|     W 13 St & 5 Ave| 306|   1|    1|\n",
      "|   Berry St & N 8 St| 306|   2|    4|\n",
      "|E 82 St & East En...| 306|   2|    1|\n",
      "|     W 26 St & 8 Ave| 306|   3|    1|\n",
      "|Gansevoort St & H...| 306|   6|    1|\n",
      "| Bus Slip & State St| 306|   7|    2|\n",
      "|Clinton St & Jora...| 306|   7|    1|\n",
      "|     5 Ave & E 88 St| 306|   7|    1|\n",
      "|  E 32 St & Park Ave| 306|   7|    4|\n",
      "| Berkeley Pl & 7 Ave| 306|   7|    1|\n",
      "|Pioneer St & Rich...| 306|   8|    1|\n",
      "|Pacific St & Nevi...| 306|   7|    1|\n",
      "|Columbus Ave & W ...| 306|   8|    3|\n",
      "|Richardson St & N...| 306|   8|    1|\n",
      "|Clinton St & Unio...| 306|   8|    2|\n",
      "|     E 33 St & 1 Ave| 306|   9|   10|\n",
      "|River Ave & E 151 St| 306|   8|    1|\n",
      "+--------------------+----+----+-----+\n",
      "only showing top 20 rows\n",
      "\n"
     ]
    }
   ],
   "source": [
    "(df.groupBy(\"end station name\", dayofyear(\"stoptime_ts\").alias(\"date\"), hour(\"stoptime_ts\").alias(\"hour\"))\n",
    "    .agg(count(\"bikeid\").alias(\"count\"))\n",
    "    .show())"
   ]
  },
  {
   "cell_type": "code",
   "execution_count": 40,
   "metadata": {},
   "outputs": [
    {
     "data": {
      "text/plain": [
       "0    00:08:48\n",
       "1    00:08:23\n",
       "2    00:33:14\n",
       "3    00:39:57\n",
       "4    00:03:02\n",
       "5    00:11:20\n",
       "6    00:10:28\n",
       "7    00:13:58\n",
       "8    00:03:03\n",
       "9    00:15:27\n",
       "Name: stoptime_time, dtype: object"
      ]
     },
     "execution_count": 40,
     "metadata": {},
     "output_type": "execute_result"
    }
   ],
   "source": [
    "df.limit(10).toPandas()['stoptime_time'].astype()"
   ]
  },
  {
   "cell_type": "code",
   "execution_count": null,
   "metadata": {},
   "outputs": [],
   "source": [
    "# turn "
   ]
  },
  {
   "cell_type": "code",
   "execution_count": null,
   "metadata": {},
   "outputs": [],
   "source": []
  },
  {
   "cell_type": "code",
   "execution_count": null,
   "metadata": {},
   "outputs": [],
   "source": []
  },
  {
   "cell_type": "code",
   "execution_count": null,
   "metadata": {},
   "outputs": [],
   "source": []
  },
  {
   "cell_type": "code",
   "execution_count": null,
   "metadata": {},
   "outputs": [],
   "source": []
  },
  {
   "cell_type": "markdown",
   "metadata": {},
   "source": [
    "# Test"
   ]
  },
  {
   "cell_type": "code",
   "execution_count": 50,
   "metadata": {},
   "outputs": [
    {
     "data": {
      "text/html": [
       "<div>\n",
       "<style scoped>\n",
       "    .dataframe tbody tr th:only-of-type {\n",
       "        vertical-align: middle;\n",
       "    }\n",
       "\n",
       "    .dataframe tbody tr th {\n",
       "        vertical-align: top;\n",
       "    }\n",
       "\n",
       "    .dataframe thead th {\n",
       "        text-align: right;\n",
       "    }\n",
       "</style>\n",
       "<table border=\"1\" class=\"dataframe\">\n",
       "  <thead>\n",
       "    <tr style=\"text-align: right;\">\n",
       "      <th></th>\n",
       "      <th>start station name</th>\n",
       "      <th>end station name</th>\n",
       "      <th>bikeid</th>\n",
       "      <th>usertype</th>\n",
       "      <th>birth year</th>\n",
       "      <th>gender</th>\n",
       "      <th>stoptime_ts</th>\n",
       "      <th>starttime_ts</th>\n",
       "      <th>stoptime_date</th>\n",
       "      <th>stoptime_time</th>\n",
       "    </tr>\n",
       "  </thead>\n",
       "  <tbody>\n",
       "    <tr>\n",
       "      <th>0</th>\n",
       "      <td>W Broadway &amp; Spring St</td>\n",
       "      <td>Clinton St &amp; Grand St</td>\n",
       "      <td>40405</td>\n",
       "      <td>Subscriber</td>\n",
       "      <td>1989</td>\n",
       "      <td>1</td>\n",
       "      <td>2020-11-01 00:08:48.301</td>\n",
       "      <td>2020-11-01 00:00:07.015</td>\n",
       "      <td>11/01/2020</td>\n",
       "      <td>00:08:48</td>\n",
       "    </tr>\n",
       "    <tr>\n",
       "      <th>1</th>\n",
       "      <td>40 Ave &amp; 9 St</td>\n",
       "      <td>40 Ave &amp; 9 St</td>\n",
       "      <td>46504</td>\n",
       "      <td>Subscriber</td>\n",
       "      <td>1970</td>\n",
       "      <td>2</td>\n",
       "      <td>2020-11-01 00:08:23.317</td>\n",
       "      <td>2020-11-01 00:00:10.808</td>\n",
       "      <td>11/01/2020</td>\n",
       "      <td>00:08:23</td>\n",
       "    </tr>\n",
       "    <tr>\n",
       "      <th>2</th>\n",
       "      <td>Roebling St &amp; N 4 St</td>\n",
       "      <td>Morgan Ave &amp; Maspeth Ave</td>\n",
       "      <td>37452</td>\n",
       "      <td>Subscriber</td>\n",
       "      <td>1989</td>\n",
       "      <td>2</td>\n",
       "      <td>2020-11-01 00:33:14.164</td>\n",
       "      <td>2020-11-01 00:00:14.704</td>\n",
       "      <td>11/01/2020</td>\n",
       "      <td>00:33:14</td>\n",
       "    </tr>\n",
       "    <tr>\n",
       "      <th>3</th>\n",
       "      <td>Cliff St &amp; Fulton St</td>\n",
       "      <td>Amsterdam Ave &amp; W 73 St</td>\n",
       "      <td>40417</td>\n",
       "      <td>Subscriber</td>\n",
       "      <td>1981</td>\n",
       "      <td>1</td>\n",
       "      <td>2020-11-01 00:39:57.003</td>\n",
       "      <td>2020-11-01 00:00:14.707</td>\n",
       "      <td>11/01/2020</td>\n",
       "      <td>00:39:57</td>\n",
       "    </tr>\n",
       "    <tr>\n",
       "      <th>4</th>\n",
       "      <td>W 59 St &amp; 10 Ave</td>\n",
       "      <td>W 70 St &amp; Amsterdam Ave</td>\n",
       "      <td>35776</td>\n",
       "      <td>Subscriber</td>\n",
       "      <td>1990</td>\n",
       "      <td>1</td>\n",
       "      <td>2020-11-01 00:03:02.898</td>\n",
       "      <td>2020-11-01 00:00:15.969</td>\n",
       "      <td>11/01/2020</td>\n",
       "      <td>00:03:02</td>\n",
       "    </tr>\n",
       "  </tbody>\n",
       "</table>\n",
       "</div>"
      ],
      "text/plain": [
       "       start station name          end station name bikeid    usertype  \\\n",
       "0  W Broadway & Spring St     Clinton St & Grand St  40405  Subscriber   \n",
       "1           40 Ave & 9 St             40 Ave & 9 St  46504  Subscriber   \n",
       "2    Roebling St & N 4 St  Morgan Ave & Maspeth Ave  37452  Subscriber   \n",
       "3    Cliff St & Fulton St   Amsterdam Ave & W 73 St  40417  Subscriber   \n",
       "4        W 59 St & 10 Ave   W 70 St & Amsterdam Ave  35776  Subscriber   \n",
       "\n",
       "  birth year gender             stoptime_ts            starttime_ts  \\\n",
       "0       1989      1 2020-11-01 00:08:48.301 2020-11-01 00:00:07.015   \n",
       "1       1970      2 2020-11-01 00:08:23.317 2020-11-01 00:00:10.808   \n",
       "2       1989      2 2020-11-01 00:33:14.164 2020-11-01 00:00:14.704   \n",
       "3       1981      1 2020-11-01 00:39:57.003 2020-11-01 00:00:14.707   \n",
       "4       1990      1 2020-11-01 00:03:02.898 2020-11-01 00:00:15.969   \n",
       "\n",
       "  stoptime_date stoptime_time  \n",
       "0    11/01/2020      00:08:48  \n",
       "1    11/01/2020      00:08:23  \n",
       "2    11/01/2020      00:33:14  \n",
       "3    11/01/2020      00:39:57  \n",
       "4    11/01/2020      00:03:02  "
      ]
     },
     "execution_count": 50,
     "metadata": {},
     "output_type": "execute_result"
    }
   ],
   "source": [
    "df.limit(5).toPandas()"
   ]
  },
  {
   "cell_type": "code",
   "execution_count": null,
   "metadata": {},
   "outputs": [],
   "source": []
  },
  {
   "cell_type": "code",
   "execution_count": null,
   "metadata": {},
   "outputs": [],
   "source": []
  },
  {
   "cell_type": "code",
   "execution_count": null,
   "metadata": {},
   "outputs": [],
   "source": []
  },
  {
   "cell_type": "code",
   "execution_count": null,
   "metadata": {},
   "outputs": [],
   "source": []
  },
  {
   "cell_type": "code",
   "execution_count": null,
   "metadata": {},
   "outputs": [],
   "source": []
  },
  {
   "cell_type": "code",
   "execution_count": null,
   "metadata": {},
   "outputs": [],
   "source": []
  },
  {
   "cell_type": "code",
   "execution_count": null,
   "metadata": {},
   "outputs": [],
   "source": []
  }
 ],
 "metadata": {
  "kernelspec": {
   "display_name": "Python 3",
   "language": "python",
   "name": "python3"
  },
  "language_info": {
   "codemirror_mode": {
    "name": "ipython",
    "version": 3
   },
   "file_extension": ".py",
   "mimetype": "text/x-python",
   "name": "python",
   "nbconvert_exporter": "python",
   "pygments_lexer": "ipython3",
   "version": "3.8.6"
  }
 },
 "nbformat": 4,
 "nbformat_minor": 4
}
