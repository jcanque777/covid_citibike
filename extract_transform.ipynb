{
 "cells": [
  {
   "cell_type": "markdown",
   "metadata": {},
   "source": [
    "# Import"
   ]
  },
  {
   "cell_type": "code",
   "execution_count": 49,
   "metadata": {},
   "outputs": [],
   "source": [
    "import configparser\n",
    "from datetime import datetime\n",
    "import os\n",
    "from pyspark.sql import SparkSession, Row\n",
    "from pyspark.sql import functions as F\n",
    "\n",
    "from pyspark.sql.functions import udf, col, lit, to_timestamp\n",
    "from pyspark.sql.functions import hour, count, dayofyear, year, month, dayofmonth, hour, weekofyear, date_format\n",
    "from pyspark.sql.types import StructType, StructField, DoubleType, StringType, IntegerType, DateType, TimestampType, LongType"
   ]
  },
  {
   "cell_type": "code",
   "execution_count": null,
   "metadata": {},
   "outputs": [],
   "source": [
    "from pyspark.sql.functions import hour, count, dayofyear"
   ]
  },
  {
   "cell_type": "code",
   "execution_count": null,
   "metadata": {},
   "outputs": [],
   "source": []
  },
  {
   "cell_type": "markdown",
   "metadata": {},
   "source": [
    "# Create Spark Session"
   ]
  },
  {
   "cell_type": "code",
   "execution_count": 2,
   "metadata": {},
   "outputs": [],
   "source": [
    "# create spark session\n",
    "spark = SparkSession \\\n",
    "        .builder \\\n",
    "        .config(\"spark.jars.packages\", \"org.apache.hadoop:hadoop-aws:2.7.0\") \\\n",
    "        .getOrCreate()"
   ]
  },
  {
   "cell_type": "code",
   "execution_count": 3,
   "metadata": {},
   "outputs": [],
   "source": [
    "# make spark run faster\n",
    "spark.conf.set(\"mapreduce.fileoutputcommitter.algorithm.version\", \"2\")"
   ]
  },
  {
   "cell_type": "code",
   "execution_count": 4,
   "metadata": {},
   "outputs": [
    {
     "data": {
      "text/plain": [
       "'3.0.1'"
      ]
     },
     "execution_count": 4,
     "metadata": {},
     "output_type": "execute_result"
    }
   ],
   "source": [
    "# check version\n",
    "spark.version"
   ]
  },
  {
   "cell_type": "markdown",
   "metadata": {},
   "source": [
    "# Load Citi Data"
   ]
  },
  {
   "cell_type": "code",
   "execution_count": 6,
   "metadata": {},
   "outputs": [],
   "source": [
    "# read csv and save to df\n",
    "df = spark.read.csv(\"cv19_data/202011-citibike-tripdata.csv\",header=True)"
   ]
  },
  {
   "cell_type": "code",
   "execution_count": 8,
   "metadata": {},
   "outputs": [
    {
     "name": "stdout",
     "output_type": "stream",
     "text": [
      "root\n",
      " |-- tripduration: string (nullable = true)\n",
      " |-- starttime: string (nullable = true)\n",
      " |-- stoptime: string (nullable = true)\n",
      " |-- start station id: string (nullable = true)\n",
      " |-- start station name: string (nullable = true)\n",
      " |-- start station latitude: string (nullable = true)\n",
      " |-- start station longitude: string (nullable = true)\n",
      " |-- end station id: string (nullable = true)\n",
      " |-- end station name: string (nullable = true)\n",
      " |-- end station latitude: string (nullable = true)\n",
      " |-- end station longitude: string (nullable = true)\n",
      " |-- bikeid: string (nullable = true)\n",
      " |-- usertype: string (nullable = true)\n",
      " |-- birth year: string (nullable = true)\n",
      " |-- gender: string (nullable = true)\n",
      "\n"
     ]
    }
   ],
   "source": [
    "df.printSchema()"
   ]
  },
  {
   "cell_type": "code",
   "execution_count": 9,
   "metadata": {},
   "outputs": [],
   "source": [
    "# change to function\n",
    "def turn_col_to_ts(df, target_col, new_col):\n",
    "    \"\"\"\n",
    "    df: pass in dataframe\n",
    "    col: name of df column to transform\n",
    "    new_col: new name of column\n",
    "    returns dataframe\n",
    "    \"\"\"\n",
    "    return df.withColumn(new_col, to_timestamp(col(target_col)))"
   ]
  },
  {
   "cell_type": "code",
   "execution_count": 41,
   "metadata": {},
   "outputs": [],
   "source": [
    "df = turn_col_to_ts(df, \"stoptime\", \"stoptime_ts\")"
   ]
  },
  {
   "cell_type": "code",
   "execution_count": 43,
   "metadata": {},
   "outputs": [],
   "source": [
    "df = turn_col_to_ts(df, \"starttime\", \"starttime_ts\")"
   ]
  },
  {
   "cell_type": "code",
   "execution_count": 33,
   "metadata": {},
   "outputs": [],
   "source": [
    "# function to change get date and time\n",
    "def turn_ts_date_time(df, target_col, new_date_col, new_time_col):\n",
    "    df = df.withColumn(new_date_col, date_format(target_col, 'MM/dd/yyy'))\n",
    "    df = df.withColumn(new_time_col, date_format(target_col, 'HH:mm:ss'))\n",
    "    return df                                    "
   ]
  },
  {
   "cell_type": "code",
   "execution_count": 37,
   "metadata": {},
   "outputs": [],
   "source": [
    "df = turn_ts_date_time(df, \"stoptime_ts\", \"stoptime_date\", \"stoptime_time\")"
   ]
  },
  {
   "cell_type": "code",
   "execution_count": 45,
   "metadata": {},
   "outputs": [],
   "source": [
    "df = turn_ts_date_time(df, \"starttime_ts\", \"starttime_date\", \"starttime_time\")"
   ]
  },
  {
   "cell_type": "code",
   "execution_count": 52,
   "metadata": {},
   "outputs": [],
   "source": [
    "# create new dataframe grouping by time, location, and counting the number of bikes\n",
    "citibike_df = (df.groupBy(\"stoptime_date\", hour(\"stoptime_ts\").alias(\"hour\"), \"start station name\", \"end station name\")\n",
    "    .agg(count(\"bikeid\").alias(\"no_of_trips\")))"
   ]
  },
  {
   "cell_type": "code",
   "execution_count": 54,
   "metadata": {
    "scrolled": false
   },
   "outputs": [
    {
     "data": {
      "text/html": [
       "<div>\n",
       "<style scoped>\n",
       "    .dataframe tbody tr th:only-of-type {\n",
       "        vertical-align: middle;\n",
       "    }\n",
       "\n",
       "    .dataframe tbody tr th {\n",
       "        vertical-align: top;\n",
       "    }\n",
       "\n",
       "    .dataframe thead th {\n",
       "        text-align: right;\n",
       "    }\n",
       "</style>\n",
       "<table border=\"1\" class=\"dataframe\">\n",
       "  <thead>\n",
       "    <tr style=\"text-align: right;\">\n",
       "      <th></th>\n",
       "      <th>stoptime_date</th>\n",
       "      <th>hour</th>\n",
       "      <th>start station name</th>\n",
       "      <th>end station name</th>\n",
       "      <th>no_of_trips</th>\n",
       "    </tr>\n",
       "  </thead>\n",
       "  <tbody>\n",
       "    <tr>\n",
       "      <th>0</th>\n",
       "      <td>11/01/2020</td>\n",
       "      <td>0</td>\n",
       "      <td>E 4 St &amp; 2 Ave</td>\n",
       "      <td>36 Ave &amp; 31 St</td>\n",
       "      <td>1</td>\n",
       "    </tr>\n",
       "    <tr>\n",
       "      <th>1</th>\n",
       "      <td>11/01/2020</td>\n",
       "      <td>0</td>\n",
       "      <td>Washington Park</td>\n",
       "      <td>Central Ave &amp; Starr Street</td>\n",
       "      <td>1</td>\n",
       "    </tr>\n",
       "    <tr>\n",
       "      <th>2</th>\n",
       "      <td>11/01/2020</td>\n",
       "      <td>0</td>\n",
       "      <td>Spruce St &amp; Nassau St</td>\n",
       "      <td>E 7 St &amp; Avenue A</td>\n",
       "      <td>1</td>\n",
       "    </tr>\n",
       "    <tr>\n",
       "      <th>3</th>\n",
       "      <td>11/01/2020</td>\n",
       "      <td>1</td>\n",
       "      <td>W 25 St &amp; 6 Ave</td>\n",
       "      <td>Christopher St &amp; Greenwich St</td>\n",
       "      <td>1</td>\n",
       "    </tr>\n",
       "    <tr>\n",
       "      <th>4</th>\n",
       "      <td>11/01/2020</td>\n",
       "      <td>1</td>\n",
       "      <td>1 Ave &amp; E 16 St</td>\n",
       "      <td>10 Ave &amp; W 28 St</td>\n",
       "      <td>1</td>\n",
       "    </tr>\n",
       "  </tbody>\n",
       "</table>\n",
       "</div>"
      ],
      "text/plain": [
       "  stoptime_date  hour     start station name               end station name  \\\n",
       "0    11/01/2020     0         E 4 St & 2 Ave                 36 Ave & 31 St   \n",
       "1    11/01/2020     0        Washington Park     Central Ave & Starr Street   \n",
       "2    11/01/2020     0  Spruce St & Nassau St              E 7 St & Avenue A   \n",
       "3    11/01/2020     1        W 25 St & 6 Ave  Christopher St & Greenwich St   \n",
       "4    11/01/2020     1        1 Ave & E 16 St               10 Ave & W 28 St   \n",
       "\n",
       "   no_of_trips  \n",
       "0            1  \n",
       "1            1  \n",
       "2            1  \n",
       "3            1  \n",
       "4            1  "
      ]
     },
     "execution_count": 54,
     "metadata": {},
     "output_type": "execute_result"
    }
   ],
   "source": [
    "citibike_df.limit(5).toPandas()"
   ]
  },
  {
   "cell_type": "code",
   "execution_count": 67,
   "metadata": {},
   "outputs": [
    {
     "name": "stdout",
     "output_type": "stream",
     "text": [
      "Rows: 1560703 Columns: 5\n"
     ]
    }
   ],
   "source": [
    "print(f\"Rows: {citibike_df.count()} Columns: {len(citibike_df.columns)}\")"
   ]
  },
  {
   "cell_type": "code",
   "execution_count": 69,
   "metadata": {
    "scrolled": true
   },
   "outputs": [
    {
     "name": "stdout",
     "output_type": "stream",
     "text": [
      "root\n",
      " |-- stoptime_date: string (nullable = true)\n",
      " |-- hour: integer (nullable = true)\n",
      " |-- start station name: string (nullable = true)\n",
      " |-- end station name: string (nullable = true)\n",
      " |-- no_of_trips: long (nullable = false)\n",
      "\n"
     ]
    }
   ],
   "source": [
    "citibike_df.printSchema()"
   ]
  },
  {
   "cell_type": "code",
   "execution_count": null,
   "metadata": {},
   "outputs": [],
   "source": []
  },
  {
   "cell_type": "markdown",
   "metadata": {},
   "source": [
    "# Load Weather Data"
   ]
  },
  {
   "cell_type": "code",
   "execution_count": 74,
   "metadata": {},
   "outputs": [
    {
     "name": "stderr",
     "output_type": "stream",
     "text": [
      "/opt/conda/lib/python3.8/site-packages/IPython/core/interactiveshell.py:3146: DtypeWarning: Columns (30,31,36,41,49,51,58,59,69,71,75,76,88,89) have mixed types.Specify dtype option on import or set low_memory=False.\n",
      "  has_raised = await self.run_ast_nodes(code_ast.body, cell_name,\n"
     ]
    }
   ],
   "source": [
    "weather_df = pd.read_csv(\"cv19_data/nyc_daily_weather.csv\")"
   ]
  },
  {
   "cell_type": "code",
   "execution_count": 83,
   "metadata": {},
   "outputs": [],
   "source": [
    "cols_keep_list = ['DATE',\n",
    " 'SOURCE',\n",
    " 'REPORT_TYPE',\n",
    " 'HourlyDryBulbTemperature',\n",
    " 'HourlyRelativeHumidity',\n",
    " 'HourlyPrecipitation',\n",
    " 'HourlyWindSpeed']"
   ]
  },
  {
   "cell_type": "code",
   "execution_count": 85,
   "metadata": {},
   "outputs": [],
   "source": [
    "weather_df = weather_df[cols_keep_list]"
   ]
  },
  {
   "cell_type": "code",
   "execution_count": 89,
   "metadata": {},
   "outputs": [],
   "source": [
    "weather_df = weather_df[weather_df['SOURCE']==7]"
   ]
  },
  {
   "cell_type": "code",
   "execution_count": 94,
   "metadata": {},
   "outputs": [],
   "source": [
    "weather_df[\"ts\"] = 0"
   ]
  },
  {
   "cell_type": "code",
   "execution_count": 95,
   "metadata": {},
   "outputs": [],
   "source": [
    "weather_df[\"ts\"] = pd.to_datetime(weather_df[\"DATE\"])"
   ]
  },
  {
   "cell_type": "code",
   "execution_count": 99,
   "metadata": {},
   "outputs": [],
   "source": [
    "weather_df[\"date\"] = weather_df[\"ts\"].dt.date"
   ]
  },
  {
   "cell_type": "code",
   "execution_count": 102,
   "metadata": {},
   "outputs": [],
   "source": [
    "weather_df[\"week_ending\"] = pd.to_datetime(weather_df[\"date\"]+ Week(weekday=5))"
   ]
  },
  {
   "cell_type": "code",
   "execution_count": 107,
   "metadata": {},
   "outputs": [],
   "source": [
    "weather_df[\"hour\"] = weather_df[\"ts\"].dt.hour"
   ]
  },
  {
   "cell_type": "markdown",
   "metadata": {},
   "source": [
    "## Delete Rows With Empty Values"
   ]
  },
  {
   "cell_type": "code",
   "execution_count": 110,
   "metadata": {},
   "outputs": [
    {
     "data": {
      "text/plain": [
       "DATE                           0\n",
       "SOURCE                         0\n",
       "REPORT_TYPE                    0\n",
       "HourlyDryBulbTemperature      22\n",
       "HourlyRelativeHumidity        24\n",
       "HourlyPrecipitation          937\n",
       "HourlyWindSpeed             1551\n",
       "ts                             0\n",
       "date                           0\n",
       "week_ending                    0\n",
       "hour                           0\n",
       "dtype: int64"
      ]
     },
     "execution_count": 110,
     "metadata": {},
     "output_type": "execute_result"
    }
   ],
   "source": [
    "weather_df.isna().sum()"
   ]
  },
  {
   "cell_type": "code",
   "execution_count": 119,
   "metadata": {},
   "outputs": [],
   "source": [
    "# drop rows where HourlyDryBulbTemperature is missing\n",
    "weather_df.dropna(subset=[\"HourlyDryBulbTemperature\"], inplace=True)"
   ]
  },
  {
   "cell_type": "code",
   "execution_count": 120,
   "metadata": {},
   "outputs": [],
   "source": [
    "# sort by time\n",
    "weather_df.sort_values(by=\"ts\", inplace=True)"
   ]
  },
  {
   "cell_type": "code",
   "execution_count": 122,
   "metadata": {},
   "outputs": [],
   "source": [
    "weather_df.reset_index(inplace=True)"
   ]
  },
  {
   "cell_type": "code",
   "execution_count": 123,
   "metadata": {},
   "outputs": [],
   "source": [
    "weather_df.fillna(method=\"ffill\",inplace=True)"
   ]
  },
  {
   "cell_type": "code",
   "execution_count": 125,
   "metadata": {},
   "outputs": [],
   "source": [
    "weather_df = weather_df[['week_ending', 'date', 'hour', 'HourlyDryBulbTemperature',\n",
    "   'HourlyRelativeHumidity', 'HourlyPrecipitation', 'HourlyWindSpeed']]"
   ]
  },
  {
   "cell_type": "code",
   "execution_count": null,
   "metadata": {},
   "outputs": [],
   "source": []
  },
  {
   "cell_type": "markdown",
   "metadata": {},
   "source": [
    "# Load Covid Data"
   ]
  },
  {
   "cell_type": "code",
   "execution_count": 128,
   "metadata": {},
   "outputs": [],
   "source": [
    "import requests"
   ]
  },
  {
   "cell_type": "code",
   "execution_count": 129,
   "metadata": {},
   "outputs": [],
   "source": [
    "# raw data from nychealth\n",
    "url = 'https://raw.githubusercontent.com/nychealth/coronavirus-data/master/trends/caserate-by-modzcta.csv'"
   ]
  },
  {
   "cell_type": "code",
   "execution_count": 130,
   "metadata": {},
   "outputs": [],
   "source": [
    "# get webpage\n",
    "res = requests.get(url, allow_redirects=True)"
   ]
  },
  {
   "cell_type": "code",
   "execution_count": 132,
   "metadata": {},
   "outputs": [],
   "source": [
    "# save page info to file\n",
    "with open('cv19_data/raw_covid_data.csv','wb') as file:\n",
    "    file.write(res.content)"
   ]
  },
  {
   "cell_type": "code",
   "execution_count": 133,
   "metadata": {},
   "outputs": [],
   "source": [
    "# read file\n",
    "covid_df = pd.read_csv('cv19_data/raw_covid_data.csv')"
   ]
  },
  {
   "cell_type": "code",
   "execution_count": 135,
   "metadata": {},
   "outputs": [],
   "source": [
    "# melt data with rows containing week_ending(date), zip_zode, and case_rate\n",
    "covid_df = covid_df.melt(id_vars=[\"week_ending\"],\n",
    "       var_name=\"zip_code\",\n",
    "       value_name=\"case_rate\")"
   ]
  },
  {
   "cell_type": "code",
   "execution_count": 138,
   "metadata": {},
   "outputs": [],
   "source": [
    "covid_df[\"zip_code\"] = covid_df[\"zip_code\"].str[9:]"
   ]
  },
  {
   "cell_type": "code",
   "execution_count": null,
   "metadata": {},
   "outputs": [],
   "source": [
    "# df = df[~df['date'].isin(a)]"
   ]
  },
  {
   "cell_type": "code",
   "execution_count": 155,
   "metadata": {},
   "outputs": [],
   "source": [
    "not_zipcodes = [\"CITY\", \"BX\", \"BK\", \"MN\", \"QN\", \"SI\"]"
   ]
  },
  {
   "cell_type": "code",
   "execution_count": 159,
   "metadata": {},
   "outputs": [],
   "source": [
    "covid_df = covid_df[~covid_df[\"zip_code\"].isin(not_zipcodes)]"
   ]
  },
  {
   "cell_type": "code",
   "execution_count": 162,
   "metadata": {},
   "outputs": [
    {
     "name": "stderr",
     "output_type": "stream",
     "text": [
      "<ipython-input-162-9dd3f21c787a>:1: SettingWithCopyWarning: \n",
      "A value is trying to be set on a copy of a slice from a DataFrame\n",
      "\n",
      "See the caveats in the documentation: https://pandas.pydata.org/pandas-docs/stable/user_guide/indexing.html#returning-a-view-versus-a-copy\n",
      "  covid_df.sort_values(by=\"week_ending\", inplace=True)\n"
     ]
    }
   ],
   "source": [
    "covid_df.sort_values(by=\"week_ending\", inplace=True)"
   ]
  },
  {
   "cell_type": "code",
   "execution_count": 165,
   "metadata": {},
   "outputs": [],
   "source": [
    "covid_df.reset_index(inplace=True)"
   ]
  },
  {
   "cell_type": "code",
   "execution_count": 168,
   "metadata": {},
   "outputs": [
    {
     "name": "stderr",
     "output_type": "stream",
     "text": [
      "/opt/conda/lib/python3.8/site-packages/pandas/core/frame.py:4167: SettingWithCopyWarning: \n",
      "A value is trying to be set on a copy of a slice from a DataFrame\n",
      "\n",
      "See the caveats in the documentation: https://pandas.pydata.org/pandas-docs/stable/user_guide/indexing.html#returning-a-view-versus-a-copy\n",
      "  return super().drop(\n"
     ]
    }
   ],
   "source": [
    "covid_df.drop(columns=\"index\", inplace=True)"
   ]
  },
  {
   "cell_type": "code",
   "execution_count": 172,
   "metadata": {},
   "outputs": [
    {
     "data": {
      "text/html": [
       "<div>\n",
       "<style scoped>\n",
       "    .dataframe tbody tr th:only-of-type {\n",
       "        vertical-align: middle;\n",
       "    }\n",
       "\n",
       "    .dataframe tbody tr th {\n",
       "        vertical-align: top;\n",
       "    }\n",
       "\n",
       "    .dataframe thead th {\n",
       "        text-align: right;\n",
       "    }\n",
       "</style>\n",
       "<table border=\"1\" class=\"dataframe\">\n",
       "  <thead>\n",
       "    <tr style=\"text-align: right;\">\n",
       "      <th></th>\n",
       "      <th>week_ending</th>\n",
       "      <th>zip_code</th>\n",
       "      <th>case_rate</th>\n",
       "    </tr>\n",
       "  </thead>\n",
       "  <tbody>\n",
       "    <tr>\n",
       "      <th>0</th>\n",
       "      <td>08/08/2020</td>\n",
       "      <td>10001</td>\n",
       "      <td>7.24</td>\n",
       "    </tr>\n",
       "    <tr>\n",
       "      <th>1</th>\n",
       "      <td>08/08/2020</td>\n",
       "      <td>10451</td>\n",
       "      <td>44.33</td>\n",
       "    </tr>\n",
       "    <tr>\n",
       "      <th>2</th>\n",
       "      <td>08/08/2020</td>\n",
       "      <td>11230</td>\n",
       "      <td>19.12</td>\n",
       "    </tr>\n",
       "    <tr>\n",
       "      <th>3</th>\n",
       "      <td>08/08/2020</td>\n",
       "      <td>10314</td>\n",
       "      <td>17.29</td>\n",
       "    </tr>\n",
       "    <tr>\n",
       "      <th>4</th>\n",
       "      <td>08/08/2020</td>\n",
       "      <td>11231</td>\n",
       "      <td>16.05</td>\n",
       "    </tr>\n",
       "  </tbody>\n",
       "</table>\n",
       "</div>"
      ],
      "text/plain": [
       "  week_ending zip_code  case_rate\n",
       "0  08/08/2020    10001       7.24\n",
       "1  08/08/2020    10451      44.33\n",
       "2  08/08/2020    11230      19.12\n",
       "3  08/08/2020    10314      17.29\n",
       "4  08/08/2020    11231      16.05"
      ]
     },
     "execution_count": 172,
     "metadata": {},
     "output_type": "execute_result"
    }
   ],
   "source": [
    "covid_df.head()"
   ]
  },
  {
   "cell_type": "code",
   "execution_count": null,
   "metadata": {},
   "outputs": [],
   "source": []
  },
  {
   "cell_type": "code",
   "execution_count": null,
   "metadata": {},
   "outputs": [],
   "source": []
  },
  {
   "cell_type": "code",
   "execution_count": null,
   "metadata": {},
   "outputs": [],
   "source": []
  },
  {
   "cell_type": "code",
   "execution_count": null,
   "metadata": {},
   "outputs": [],
   "source": []
  },
  {
   "cell_type": "markdown",
   "metadata": {},
   "source": [
    "# Get End of week"
   ]
  },
  {
   "cell_type": "code",
   "execution_count": 72,
   "metadata": {},
   "outputs": [],
   "source": [
    "import pandas as pd"
   ]
  },
  {
   "cell_type": "code",
   "execution_count": 70,
   "metadata": {},
   "outputs": [],
   "source": [
    "from pandas.tseries.offsets import *"
   ]
  },
  {
   "cell_type": "code",
   "execution_count": 73,
   "metadata": {
    "collapsed": true
   },
   "outputs": [
    {
     "ename": "AttributeError",
     "evalue": "'pandas._libs.tslibs.offsets.Week' object has no attribute '_get_object_id'",
     "output_type": "error",
     "traceback": [
      "\u001b[0;31m---------------------------------------------------------------------------\u001b[0m",
      "\u001b[0;31mAttributeError\u001b[0m                            Traceback (most recent call last)",
      "\u001b[0;32m<ipython-input-73-650f60ebd3aa>\u001b[0m in \u001b[0;36m<module>\u001b[0;34m\u001b[0m\n\u001b[0;32m----> 1\u001b[0;31m \u001b[0mpd\u001b[0m\u001b[0;34m.\u001b[0m\u001b[0mto_datetime\u001b[0m\u001b[0;34m(\u001b[0m\u001b[0mcitibike_df\u001b[0m\u001b[0;34m[\u001b[0m\u001b[0;34m\"stoptime_date\"\u001b[0m\u001b[0;34m]\u001b[0m\u001b[0;34m+\u001b[0m \u001b[0mWeek\u001b[0m\u001b[0;34m(\u001b[0m\u001b[0mweekday\u001b[0m\u001b[0;34m=\u001b[0m\u001b[0;36m5\u001b[0m\u001b[0;34m)\u001b[0m\u001b[0;34m)\u001b[0m\u001b[0;34m\u001b[0m\u001b[0;34m\u001b[0m\u001b[0m\n\u001b[0m",
      "\u001b[0;32m/usr/local/spark/python/pyspark/sql/column.py\u001b[0m in \u001b[0;36m_\u001b[0;34m(self, other)\u001b[0m\n\u001b[1;32m    116\u001b[0m     \u001b[0;32mdef\u001b[0m \u001b[0m_\u001b[0m\u001b[0;34m(\u001b[0m\u001b[0mself\u001b[0m\u001b[0;34m,\u001b[0m \u001b[0mother\u001b[0m\u001b[0;34m)\u001b[0m\u001b[0;34m:\u001b[0m\u001b[0;34m\u001b[0m\u001b[0;34m\u001b[0m\u001b[0m\n\u001b[1;32m    117\u001b[0m         \u001b[0mjc\u001b[0m \u001b[0;34m=\u001b[0m \u001b[0mother\u001b[0m\u001b[0;34m.\u001b[0m\u001b[0m_jc\u001b[0m \u001b[0;32mif\u001b[0m \u001b[0misinstance\u001b[0m\u001b[0;34m(\u001b[0m\u001b[0mother\u001b[0m\u001b[0;34m,\u001b[0m \u001b[0mColumn\u001b[0m\u001b[0;34m)\u001b[0m \u001b[0;32melse\u001b[0m \u001b[0mother\u001b[0m\u001b[0;34m\u001b[0m\u001b[0;34m\u001b[0m\u001b[0m\n\u001b[0;32m--> 118\u001b[0;31m         \u001b[0mnjc\u001b[0m \u001b[0;34m=\u001b[0m \u001b[0mgetattr\u001b[0m\u001b[0;34m(\u001b[0m\u001b[0mself\u001b[0m\u001b[0;34m.\u001b[0m\u001b[0m_jc\u001b[0m\u001b[0;34m,\u001b[0m \u001b[0mname\u001b[0m\u001b[0;34m)\u001b[0m\u001b[0;34m(\u001b[0m\u001b[0mjc\u001b[0m\u001b[0;34m)\u001b[0m\u001b[0;34m\u001b[0m\u001b[0;34m\u001b[0m\u001b[0m\n\u001b[0m\u001b[1;32m    119\u001b[0m         \u001b[0;32mreturn\u001b[0m \u001b[0mColumn\u001b[0m\u001b[0;34m(\u001b[0m\u001b[0mnjc\u001b[0m\u001b[0;34m)\u001b[0m\u001b[0;34m\u001b[0m\u001b[0;34m\u001b[0m\u001b[0m\n\u001b[1;32m    120\u001b[0m     \u001b[0m_\u001b[0m\u001b[0;34m.\u001b[0m\u001b[0m__doc__\u001b[0m \u001b[0;34m=\u001b[0m \u001b[0mdoc\u001b[0m\u001b[0;34m\u001b[0m\u001b[0;34m\u001b[0m\u001b[0m\n",
      "\u001b[0;32m/usr/local/spark/python/lib/py4j-0.10.9-src.zip/py4j/java_gateway.py\u001b[0m in \u001b[0;36m__call__\u001b[0;34m(self, *args)\u001b[0m\n\u001b[1;32m   1294\u001b[0m \u001b[0;34m\u001b[0m\u001b[0m\n\u001b[1;32m   1295\u001b[0m     \u001b[0;32mdef\u001b[0m \u001b[0m__call__\u001b[0m\u001b[0;34m(\u001b[0m\u001b[0mself\u001b[0m\u001b[0;34m,\u001b[0m \u001b[0;34m*\u001b[0m\u001b[0margs\u001b[0m\u001b[0;34m)\u001b[0m\u001b[0;34m:\u001b[0m\u001b[0;34m\u001b[0m\u001b[0;34m\u001b[0m\u001b[0m\n\u001b[0;32m-> 1296\u001b[0;31m         \u001b[0margs_command\u001b[0m\u001b[0;34m,\u001b[0m \u001b[0mtemp_args\u001b[0m \u001b[0;34m=\u001b[0m \u001b[0mself\u001b[0m\u001b[0;34m.\u001b[0m\u001b[0m_build_args\u001b[0m\u001b[0;34m(\u001b[0m\u001b[0;34m*\u001b[0m\u001b[0margs\u001b[0m\u001b[0;34m)\u001b[0m\u001b[0;34m\u001b[0m\u001b[0;34m\u001b[0m\u001b[0m\n\u001b[0m\u001b[1;32m   1297\u001b[0m \u001b[0;34m\u001b[0m\u001b[0m\n\u001b[1;32m   1298\u001b[0m         \u001b[0mcommand\u001b[0m \u001b[0;34m=\u001b[0m \u001b[0mproto\u001b[0m\u001b[0;34m.\u001b[0m\u001b[0mCALL_COMMAND_NAME\u001b[0m \u001b[0;34m+\u001b[0m\u001b[0;31m\\\u001b[0m\u001b[0;34m\u001b[0m\u001b[0;34m\u001b[0m\u001b[0m\n",
      "\u001b[0;32m/usr/local/spark/python/lib/py4j-0.10.9-src.zip/py4j/java_gateway.py\u001b[0m in \u001b[0;36m_build_args\u001b[0;34m(self, *args)\u001b[0m\n\u001b[1;32m   1264\u001b[0m \u001b[0;34m\u001b[0m\u001b[0m\n\u001b[1;32m   1265\u001b[0m         args_command = \"\".join(\n\u001b[0;32m-> 1266\u001b[0;31m             [get_command_part(arg, self.pool) for arg in new_args])\n\u001b[0m\u001b[1;32m   1267\u001b[0m \u001b[0;34m\u001b[0m\u001b[0m\n\u001b[1;32m   1268\u001b[0m         \u001b[0;32mreturn\u001b[0m \u001b[0margs_command\u001b[0m\u001b[0;34m,\u001b[0m \u001b[0mtemp_args\u001b[0m\u001b[0;34m\u001b[0m\u001b[0;34m\u001b[0m\u001b[0m\n",
      "\u001b[0;32m/usr/local/spark/python/lib/py4j-0.10.9-src.zip/py4j/java_gateway.py\u001b[0m in \u001b[0;36m<listcomp>\u001b[0;34m(.0)\u001b[0m\n\u001b[1;32m   1264\u001b[0m \u001b[0;34m\u001b[0m\u001b[0m\n\u001b[1;32m   1265\u001b[0m         args_command = \"\".join(\n\u001b[0;32m-> 1266\u001b[0;31m             [get_command_part(arg, self.pool) for arg in new_args])\n\u001b[0m\u001b[1;32m   1267\u001b[0m \u001b[0;34m\u001b[0m\u001b[0m\n\u001b[1;32m   1268\u001b[0m         \u001b[0;32mreturn\u001b[0m \u001b[0margs_command\u001b[0m\u001b[0;34m,\u001b[0m \u001b[0mtemp_args\u001b[0m\u001b[0;34m\u001b[0m\u001b[0;34m\u001b[0m\u001b[0m\n",
      "\u001b[0;32m/usr/local/spark/python/lib/py4j-0.10.9-src.zip/py4j/protocol.py\u001b[0m in \u001b[0;36mget_command_part\u001b[0;34m(parameter, python_proxy_pool)\u001b[0m\n\u001b[1;32m    296\u001b[0m             \u001b[0mcommand_part\u001b[0m \u001b[0;34m+=\u001b[0m \u001b[0;34m\";\"\u001b[0m \u001b[0;34m+\u001b[0m \u001b[0minterface\u001b[0m\u001b[0;34m\u001b[0m\u001b[0;34m\u001b[0m\u001b[0m\n\u001b[1;32m    297\u001b[0m     \u001b[0;32melse\u001b[0m\u001b[0;34m:\u001b[0m\u001b[0;34m\u001b[0m\u001b[0;34m\u001b[0m\u001b[0m\n\u001b[0;32m--> 298\u001b[0;31m         \u001b[0mcommand_part\u001b[0m \u001b[0;34m=\u001b[0m \u001b[0mREFERENCE_TYPE\u001b[0m \u001b[0;34m+\u001b[0m \u001b[0mparameter\u001b[0m\u001b[0;34m.\u001b[0m\u001b[0m_get_object_id\u001b[0m\u001b[0;34m(\u001b[0m\u001b[0;34m)\u001b[0m\u001b[0;34m\u001b[0m\u001b[0;34m\u001b[0m\u001b[0m\n\u001b[0m\u001b[1;32m    299\u001b[0m \u001b[0;34m\u001b[0m\u001b[0m\n\u001b[1;32m    300\u001b[0m     \u001b[0mcommand_part\u001b[0m \u001b[0;34m+=\u001b[0m \u001b[0;34m\"\\n\"\u001b[0m\u001b[0;34m\u001b[0m\u001b[0;34m\u001b[0m\u001b[0m\n",
      "\u001b[0;31mAttributeError\u001b[0m: 'pandas._libs.tslibs.offsets.Week' object has no attribute '_get_object_id'"
     ]
    }
   ],
   "source": [
    "pd.to_datetime(citibike_df[\"stoptime_date\"]+ Week(weekday=5))"
   ]
  },
  {
   "cell_type": "code",
   "execution_count": null,
   "metadata": {},
   "outputs": [],
   "source": []
  },
  {
   "cell_type": "code",
   "execution_count": null,
   "metadata": {},
   "outputs": [],
   "source": []
  },
  {
   "cell_type": "code",
   "execution_count": null,
   "metadata": {},
   "outputs": [],
   "source": []
  },
  {
   "cell_type": "code",
   "execution_count": 47,
   "metadata": {},
   "outputs": [
    {
     "data": {
      "text/html": [
       "<div>\n",
       "<style scoped>\n",
       "    .dataframe tbody tr th:only-of-type {\n",
       "        vertical-align: middle;\n",
       "    }\n",
       "\n",
       "    .dataframe tbody tr th {\n",
       "        vertical-align: top;\n",
       "    }\n",
       "\n",
       "    .dataframe thead th {\n",
       "        text-align: right;\n",
       "    }\n",
       "</style>\n",
       "<table border=\"1\" class=\"dataframe\">\n",
       "  <thead>\n",
       "    <tr style=\"text-align: right;\">\n",
       "      <th></th>\n",
       "      <th>tripduration</th>\n",
       "      <th>starttime</th>\n",
       "      <th>stoptime</th>\n",
       "      <th>start station id</th>\n",
       "      <th>start station name</th>\n",
       "      <th>start station latitude</th>\n",
       "      <th>start station longitude</th>\n",
       "      <th>end station id</th>\n",
       "      <th>end station name</th>\n",
       "      <th>end station latitude</th>\n",
       "      <th>...</th>\n",
       "      <th>bikeid</th>\n",
       "      <th>usertype</th>\n",
       "      <th>birth year</th>\n",
       "      <th>gender</th>\n",
       "      <th>stoptime_ts</th>\n",
       "      <th>stoptime_date</th>\n",
       "      <th>stoptime_time</th>\n",
       "      <th>starttime_ts</th>\n",
       "      <th>starttime_date</th>\n",
       "      <th>starttime_time</th>\n",
       "    </tr>\n",
       "  </thead>\n",
       "  <tbody>\n",
       "    <tr>\n",
       "      <th>0</th>\n",
       "      <td>521</td>\n",
       "      <td>2020-11-01 00:00:07.0150</td>\n",
       "      <td>2020-11-01 00:08:48.3010</td>\n",
       "      <td>3467</td>\n",
       "      <td>W Broadway &amp; Spring St</td>\n",
       "      <td>40.72494672359416</td>\n",
       "      <td>-74.00165855884552</td>\n",
       "      <td>350</td>\n",
       "      <td>Clinton St &amp; Grand St</td>\n",
       "      <td>40.71559509</td>\n",
       "      <td>...</td>\n",
       "      <td>40405</td>\n",
       "      <td>Subscriber</td>\n",
       "      <td>1989</td>\n",
       "      <td>1</td>\n",
       "      <td>2020-11-01 00:08:48.301</td>\n",
       "      <td>11/01/2020</td>\n",
       "      <td>00:08:48</td>\n",
       "      <td>2020-11-01 00:00:07.015</td>\n",
       "      <td>11/01/2020</td>\n",
       "      <td>00:00:07</td>\n",
       "    </tr>\n",
       "    <tr>\n",
       "      <th>1</th>\n",
       "      <td>492</td>\n",
       "      <td>2020-11-01 00:00:10.8080</td>\n",
       "      <td>2020-11-01 00:08:23.3170</td>\n",
       "      <td>3557</td>\n",
       "      <td>40 Ave &amp; 9 St</td>\n",
       "      <td>40.75742</td>\n",
       "      <td>-73.945133</td>\n",
       "      <td>3557</td>\n",
       "      <td>40 Ave &amp; 9 St</td>\n",
       "      <td>40.75742</td>\n",
       "      <td>...</td>\n",
       "      <td>46504</td>\n",
       "      <td>Subscriber</td>\n",
       "      <td>1970</td>\n",
       "      <td>2</td>\n",
       "      <td>2020-11-01 00:08:23.317</td>\n",
       "      <td>11/01/2020</td>\n",
       "      <td>00:08:23</td>\n",
       "      <td>2020-11-01 00:00:10.808</td>\n",
       "      <td>11/01/2020</td>\n",
       "      <td>00:00:10</td>\n",
       "    </tr>\n",
       "    <tr>\n",
       "      <th>2</th>\n",
       "      <td>1979</td>\n",
       "      <td>2020-11-01 00:00:14.7040</td>\n",
       "      <td>2020-11-01 00:33:14.1640</td>\n",
       "      <td>3085</td>\n",
       "      <td>Roebling St &amp; N 4 St</td>\n",
       "      <td>40.71469</td>\n",
       "      <td>-73.95739</td>\n",
       "      <td>3854</td>\n",
       "      <td>Morgan Ave &amp; Maspeth Ave</td>\n",
       "      <td>40.716657</td>\n",
       "      <td>...</td>\n",
       "      <td>37452</td>\n",
       "      <td>Subscriber</td>\n",
       "      <td>1989</td>\n",
       "      <td>2</td>\n",
       "      <td>2020-11-01 00:33:14.164</td>\n",
       "      <td>11/01/2020</td>\n",
       "      <td>00:33:14</td>\n",
       "      <td>2020-11-01 00:00:14.704</td>\n",
       "      <td>11/01/2020</td>\n",
       "      <td>00:00:14</td>\n",
       "    </tr>\n",
       "    <tr>\n",
       "      <th>3</th>\n",
       "      <td>2382</td>\n",
       "      <td>2020-11-01 00:00:14.7070</td>\n",
       "      <td>2020-11-01 00:39:57.0030</td>\n",
       "      <td>3783</td>\n",
       "      <td>Cliff St &amp; Fulton St</td>\n",
       "      <td>40.70838</td>\n",
       "      <td>-74.00495</td>\n",
       "      <td>3167</td>\n",
       "      <td>Amsterdam Ave &amp; W 73 St</td>\n",
       "      <td>40.77966809007312</td>\n",
       "      <td>...</td>\n",
       "      <td>40417</td>\n",
       "      <td>Subscriber</td>\n",
       "      <td>1981</td>\n",
       "      <td>1</td>\n",
       "      <td>2020-11-01 00:39:57.003</td>\n",
       "      <td>11/01/2020</td>\n",
       "      <td>00:39:57</td>\n",
       "      <td>2020-11-01 00:00:14.707</td>\n",
       "      <td>11/01/2020</td>\n",
       "      <td>00:00:14</td>\n",
       "    </tr>\n",
       "    <tr>\n",
       "      <th>4</th>\n",
       "      <td>166</td>\n",
       "      <td>2020-11-01 00:00:15.9690</td>\n",
       "      <td>2020-11-01 00:03:02.8980</td>\n",
       "      <td>422</td>\n",
       "      <td>W 59 St &amp; 10 Ave</td>\n",
       "      <td>40.770513</td>\n",
       "      <td>-73.988038</td>\n",
       "      <td>3175</td>\n",
       "      <td>W 70 St &amp; Amsterdam Ave</td>\n",
       "      <td>40.77748046</td>\n",
       "      <td>...</td>\n",
       "      <td>35776</td>\n",
       "      <td>Subscriber</td>\n",
       "      <td>1990</td>\n",
       "      <td>1</td>\n",
       "      <td>2020-11-01 00:03:02.898</td>\n",
       "      <td>11/01/2020</td>\n",
       "      <td>00:03:02</td>\n",
       "      <td>2020-11-01 00:00:15.969</td>\n",
       "      <td>11/01/2020</td>\n",
       "      <td>00:00:15</td>\n",
       "    </tr>\n",
       "    <tr>\n",
       "      <th>5</th>\n",
       "      <td>658</td>\n",
       "      <td>2020-11-01 00:00:21.9490</td>\n",
       "      <td>2020-11-01 00:11:20.5820</td>\n",
       "      <td>3323</td>\n",
       "      <td>W 106 St &amp; Central Park West</td>\n",
       "      <td>40.7981856</td>\n",
       "      <td>-73.9605909006</td>\n",
       "      <td>3226</td>\n",
       "      <td>W 82 St &amp; Central Park West</td>\n",
       "      <td>40.78275</td>\n",
       "      <td>...</td>\n",
       "      <td>45567</td>\n",
       "      <td>Subscriber</td>\n",
       "      <td>1994</td>\n",
       "      <td>1</td>\n",
       "      <td>2020-11-01 00:11:20.582</td>\n",
       "      <td>11/01/2020</td>\n",
       "      <td>00:11:20</td>\n",
       "      <td>2020-11-01 00:00:21.949</td>\n",
       "      <td>11/01/2020</td>\n",
       "      <td>00:00:21</td>\n",
       "    </tr>\n",
       "    <tr>\n",
       "      <th>6</th>\n",
       "      <td>605</td>\n",
       "      <td>2020-11-01 00:00:22.9320</td>\n",
       "      <td>2020-11-01 00:10:28.6980</td>\n",
       "      <td>2021</td>\n",
       "      <td>W 45 St &amp; 8 Ave</td>\n",
       "      <td>40.75929124</td>\n",
       "      <td>-73.98859651</td>\n",
       "      <td>4121</td>\n",
       "      <td>1 Ave &amp; E 39 St</td>\n",
       "      <td>40.74714</td>\n",
       "      <td>...</td>\n",
       "      <td>37154</td>\n",
       "      <td>Subscriber</td>\n",
       "      <td>1994</td>\n",
       "      <td>1</td>\n",
       "      <td>2020-11-01 00:10:28.698</td>\n",
       "      <td>11/01/2020</td>\n",
       "      <td>00:10:28</td>\n",
       "      <td>2020-11-01 00:00:22.932</td>\n",
       "      <td>11/01/2020</td>\n",
       "      <td>00:00:22</td>\n",
       "    </tr>\n",
       "    <tr>\n",
       "      <th>7</th>\n",
       "      <td>813</td>\n",
       "      <td>2020-11-01 00:00:24.5440</td>\n",
       "      <td>2020-11-01 00:13:58.1290</td>\n",
       "      <td>3761</td>\n",
       "      <td>Cedar St &amp; Myrtle Ave</td>\n",
       "      <td>40.697842</td>\n",
       "      <td>-73.926241</td>\n",
       "      <td>471</td>\n",
       "      <td>Grand St &amp; Havemeyer St</td>\n",
       "      <td>40.71286844</td>\n",
       "      <td>...</td>\n",
       "      <td>37176</td>\n",
       "      <td>Subscriber</td>\n",
       "      <td>1973</td>\n",
       "      <td>1</td>\n",
       "      <td>2020-11-01 00:13:58.129</td>\n",
       "      <td>11/01/2020</td>\n",
       "      <td>00:13:58</td>\n",
       "      <td>2020-11-01 00:00:24.544</td>\n",
       "      <td>11/01/2020</td>\n",
       "      <td>00:00:24</td>\n",
       "    </tr>\n",
       "    <tr>\n",
       "      <th>8</th>\n",
       "      <td>152</td>\n",
       "      <td>2020-11-01 00:00:30.1380</td>\n",
       "      <td>2020-11-01 00:03:03.1020</td>\n",
       "      <td>347</td>\n",
       "      <td>Greenwich St &amp; W Houston St</td>\n",
       "      <td>40.728846</td>\n",
       "      <td>-74.008591</td>\n",
       "      <td>3256</td>\n",
       "      <td>Pier 40 - Hudson River Park</td>\n",
       "      <td>40.7277140777778</td>\n",
       "      <td>...</td>\n",
       "      <td>20878</td>\n",
       "      <td>Subscriber</td>\n",
       "      <td>1964</td>\n",
       "      <td>0</td>\n",
       "      <td>2020-11-01 00:03:03.102</td>\n",
       "      <td>11/01/2020</td>\n",
       "      <td>00:03:03</td>\n",
       "      <td>2020-11-01 00:00:30.138</td>\n",
       "      <td>11/01/2020</td>\n",
       "      <td>00:00:30</td>\n",
       "    </tr>\n",
       "    <tr>\n",
       "      <th>9</th>\n",
       "      <td>895</td>\n",
       "      <td>2020-11-01 00:00:32.0070</td>\n",
       "      <td>2020-11-01 00:15:27.0420</td>\n",
       "      <td>3075</td>\n",
       "      <td>Division Ave &amp; Marcy Ave</td>\n",
       "      <td>40.70708701</td>\n",
       "      <td>-73.95796783</td>\n",
       "      <td>398</td>\n",
       "      <td>Atlantic Ave &amp; Furman St</td>\n",
       "      <td>40.69165183</td>\n",
       "      <td>...</td>\n",
       "      <td>37424</td>\n",
       "      <td>Customer</td>\n",
       "      <td>1995</td>\n",
       "      <td>1</td>\n",
       "      <td>2020-11-01 00:15:27.042</td>\n",
       "      <td>11/01/2020</td>\n",
       "      <td>00:15:27</td>\n",
       "      <td>2020-11-01 00:00:32.007</td>\n",
       "      <td>11/01/2020</td>\n",
       "      <td>00:00:32</td>\n",
       "    </tr>\n",
       "  </tbody>\n",
       "</table>\n",
       "<p>10 rows × 21 columns</p>\n",
       "</div>"
      ],
      "text/plain": [
       "  tripduration                 starttime                  stoptime  \\\n",
       "0          521  2020-11-01 00:00:07.0150  2020-11-01 00:08:48.3010   \n",
       "1          492  2020-11-01 00:00:10.8080  2020-11-01 00:08:23.3170   \n",
       "2         1979  2020-11-01 00:00:14.7040  2020-11-01 00:33:14.1640   \n",
       "3         2382  2020-11-01 00:00:14.7070  2020-11-01 00:39:57.0030   \n",
       "4          166  2020-11-01 00:00:15.9690  2020-11-01 00:03:02.8980   \n",
       "5          658  2020-11-01 00:00:21.9490  2020-11-01 00:11:20.5820   \n",
       "6          605  2020-11-01 00:00:22.9320  2020-11-01 00:10:28.6980   \n",
       "7          813  2020-11-01 00:00:24.5440  2020-11-01 00:13:58.1290   \n",
       "8          152  2020-11-01 00:00:30.1380  2020-11-01 00:03:03.1020   \n",
       "9          895  2020-11-01 00:00:32.0070  2020-11-01 00:15:27.0420   \n",
       "\n",
       "  start station id            start station name start station latitude  \\\n",
       "0             3467        W Broadway & Spring St      40.72494672359416   \n",
       "1             3557                 40 Ave & 9 St               40.75742   \n",
       "2             3085          Roebling St & N 4 St               40.71469   \n",
       "3             3783          Cliff St & Fulton St               40.70838   \n",
       "4              422              W 59 St & 10 Ave              40.770513   \n",
       "5             3323  W 106 St & Central Park West             40.7981856   \n",
       "6             2021               W 45 St & 8 Ave            40.75929124   \n",
       "7             3761         Cedar St & Myrtle Ave              40.697842   \n",
       "8              347   Greenwich St & W Houston St              40.728846   \n",
       "9             3075      Division Ave & Marcy Ave            40.70708701   \n",
       "\n",
       "  start station longitude end station id             end station name  \\\n",
       "0      -74.00165855884552            350        Clinton St & Grand St   \n",
       "1              -73.945133           3557                40 Ave & 9 St   \n",
       "2               -73.95739           3854     Morgan Ave & Maspeth Ave   \n",
       "3               -74.00495           3167      Amsterdam Ave & W 73 St   \n",
       "4              -73.988038           3175      W 70 St & Amsterdam Ave   \n",
       "5          -73.9605909006           3226  W 82 St & Central Park West   \n",
       "6            -73.98859651           4121              1 Ave & E 39 St   \n",
       "7              -73.926241            471      Grand St & Havemeyer St   \n",
       "8              -74.008591           3256  Pier 40 - Hudson River Park   \n",
       "9            -73.95796783            398     Atlantic Ave & Furman St   \n",
       "\n",
       "  end station latitude  ... bikeid    usertype birth year gender  \\\n",
       "0          40.71559509  ...  40405  Subscriber       1989      1   \n",
       "1             40.75742  ...  46504  Subscriber       1970      2   \n",
       "2            40.716657  ...  37452  Subscriber       1989      2   \n",
       "3    40.77966809007312  ...  40417  Subscriber       1981      1   \n",
       "4          40.77748046  ...  35776  Subscriber       1990      1   \n",
       "5             40.78275  ...  45567  Subscriber       1994      1   \n",
       "6             40.74714  ...  37154  Subscriber       1994      1   \n",
       "7          40.71286844  ...  37176  Subscriber       1973      1   \n",
       "8     40.7277140777778  ...  20878  Subscriber       1964      0   \n",
       "9          40.69165183  ...  37424    Customer       1995      1   \n",
       "\n",
       "              stoptime_ts stoptime_date stoptime_time            starttime_ts  \\\n",
       "0 2020-11-01 00:08:48.301    11/01/2020      00:08:48 2020-11-01 00:00:07.015   \n",
       "1 2020-11-01 00:08:23.317    11/01/2020      00:08:23 2020-11-01 00:00:10.808   \n",
       "2 2020-11-01 00:33:14.164    11/01/2020      00:33:14 2020-11-01 00:00:14.704   \n",
       "3 2020-11-01 00:39:57.003    11/01/2020      00:39:57 2020-11-01 00:00:14.707   \n",
       "4 2020-11-01 00:03:02.898    11/01/2020      00:03:02 2020-11-01 00:00:15.969   \n",
       "5 2020-11-01 00:11:20.582    11/01/2020      00:11:20 2020-11-01 00:00:21.949   \n",
       "6 2020-11-01 00:10:28.698    11/01/2020      00:10:28 2020-11-01 00:00:22.932   \n",
       "7 2020-11-01 00:13:58.129    11/01/2020      00:13:58 2020-11-01 00:00:24.544   \n",
       "8 2020-11-01 00:03:03.102    11/01/2020      00:03:03 2020-11-01 00:00:30.138   \n",
       "9 2020-11-01 00:15:27.042    11/01/2020      00:15:27 2020-11-01 00:00:32.007   \n",
       "\n",
       "  starttime_date starttime_time  \n",
       "0     11/01/2020       00:00:07  \n",
       "1     11/01/2020       00:00:10  \n",
       "2     11/01/2020       00:00:14  \n",
       "3     11/01/2020       00:00:14  \n",
       "4     11/01/2020       00:00:15  \n",
       "5     11/01/2020       00:00:21  \n",
       "6     11/01/2020       00:00:22  \n",
       "7     11/01/2020       00:00:24  \n",
       "8     11/01/2020       00:00:30  \n",
       "9     11/01/2020       00:00:32  \n",
       "\n",
       "[10 rows x 21 columns]"
      ]
     },
     "execution_count": 47,
     "metadata": {},
     "output_type": "execute_result"
    }
   ],
   "source": [
    "df.limit(10).toPandas()"
   ]
  },
  {
   "cell_type": "code",
   "execution_count": null,
   "metadata": {},
   "outputs": [],
   "source": []
  },
  {
   "cell_type": "code",
   "execution_count": null,
   "metadata": {},
   "outputs": [],
   "source": []
  }
 ],
 "metadata": {
  "kernelspec": {
   "display_name": "Python 3",
   "language": "python",
   "name": "python3"
  },
  "language_info": {
   "codemirror_mode": {
    "name": "ipython",
    "version": 3
   },
   "file_extension": ".py",
   "mimetype": "text/x-python",
   "name": "python",
   "nbconvert_exporter": "python",
   "pygments_lexer": "ipython3",
   "version": "3.8.6"
  }
 },
 "nbformat": 4,
 "nbformat_minor": 4
}
